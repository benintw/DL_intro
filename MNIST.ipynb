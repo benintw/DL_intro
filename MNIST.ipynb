{
  "nbformat": 4,
  "nbformat_minor": 0,
  "metadata": {
    "colab": {
      "name": "MNIST.ipynb",
      "provenance": [],
      "authorship_tag": "ABX9TyMs+CpXV7GTaCcJy//aCCOe",
      "include_colab_link": true
    },
    "kernelspec": {
      "name": "python3",
      "display_name": "Python 3"
    },
    "language_info": {
      "name": "python"
    },
    "accelerator": "GPU",
    "gpuClass": "standard",
    "widgets": {
      "application/vnd.jupyter.widget-state+json": {
        "c95a0e5dc79c4994ac64b500592518f6": {
          "model_module": "@jupyter-widgets/controls",
          "model_name": "VBoxModel",
          "model_module_version": "1.5.0",
          "state": {
            "_dom_classes": [
              "widget-interact"
            ],
            "_model_module": "@jupyter-widgets/controls",
            "_model_module_version": "1.5.0",
            "_model_name": "VBoxModel",
            "_view_count": null,
            "_view_module": "@jupyter-widgets/controls",
            "_view_module_version": "1.5.0",
            "_view_name": "VBoxView",
            "box_style": "",
            "children": [
              "IPY_MODEL_eaf563c1b1a84cf2bf1fcd4f765a2491",
              "IPY_MODEL_5a7a25db1aea4ed483e0538cd7213c2c"
            ],
            "layout": "IPY_MODEL_ee08c9c21e084324afefe31beba48997"
          }
        },
        "eaf563c1b1a84cf2bf1fcd4f765a2491": {
          "model_module": "@jupyter-widgets/controls",
          "model_name": "IntSliderModel",
          "model_module_version": "1.5.0",
          "state": {
            "_dom_classes": [],
            "_model_module": "@jupyter-widgets/controls",
            "_model_module_version": "1.5.0",
            "_model_name": "IntSliderModel",
            "_view_count": null,
            "_view_module": "@jupyter-widgets/controls",
            "_view_module_version": "1.5.0",
            "_view_name": "IntSliderView",
            "continuous_update": true,
            "description": "n",
            "description_tooltip": null,
            "disabled": false,
            "layout": "IPY_MODEL_c8150cdfe26a4cdda763f82d913dabc7",
            "max": 59999,
            "min": 0,
            "orientation": "horizontal",
            "readout": true,
            "readout_format": "d",
            "step": 1,
            "style": "IPY_MODEL_3da227393cc34357960ac9416d660c8c",
            "value": 28802
          }
        },
        "5a7a25db1aea4ed483e0538cd7213c2c": {
          "model_module": "@jupyter-widgets/output",
          "model_name": "OutputModel",
          "model_module_version": "1.0.0",
          "state": {
            "_dom_classes": [],
            "_model_module": "@jupyter-widgets/output",
            "_model_module_version": "1.0.0",
            "_model_name": "OutputModel",
            "_view_count": null,
            "_view_module": "@jupyter-widgets/output",
            "_view_module_version": "1.0.0",
            "_view_name": "OutputView",
            "layout": "IPY_MODEL_c0d9129a9788471b89715af792dc4405",
            "msg_id": "",
            "outputs": [
              {
                "output_type": "stream",
                "name": "stdout",
                "text": [
                  "數字圖形如下形如下, 標籤為: [0. 0. 0. 0. 0. 0. 0. 0. 1. 0.]\n"
                ]
              },
              {
                "output_type": "error",
                "ename": "TypeError",
                "evalue": "ignored",
                "traceback": [
                  "\u001b[0;31m---------------------------------------------------------------------------\u001b[0m",
                  "\u001b[0;31mTypeError\u001b[0m                                 Traceback (most recent call last)",
                  "\u001b[0;32m/usr/local/lib/python3.7/dist-packages/ipywidgets/widgets/interaction.py\u001b[0m in \u001b[0;36mupdate\u001b[0;34m(self, *args)\u001b[0m\n\u001b[1;32m    255\u001b[0m                     \u001b[0mvalue\u001b[0m \u001b[0;34m=\u001b[0m \u001b[0mwidget\u001b[0m\u001b[0;34m.\u001b[0m\u001b[0mget_interact_value\u001b[0m\u001b[0;34m(\u001b[0m\u001b[0;34m)\u001b[0m\u001b[0;34m\u001b[0m\u001b[0;34m\u001b[0m\u001b[0m\n\u001b[1;32m    256\u001b[0m                     \u001b[0mself\u001b[0m\u001b[0;34m.\u001b[0m\u001b[0mkwargs\u001b[0m\u001b[0;34m[\u001b[0m\u001b[0mwidget\u001b[0m\u001b[0;34m.\u001b[0m\u001b[0m_kwarg\u001b[0m\u001b[0;34m]\u001b[0m \u001b[0;34m=\u001b[0m \u001b[0mvalue\u001b[0m\u001b[0;34m\u001b[0m\u001b[0;34m\u001b[0m\u001b[0m\n\u001b[0;32m--> 257\u001b[0;31m                 \u001b[0mself\u001b[0m\u001b[0;34m.\u001b[0m\u001b[0mresult\u001b[0m \u001b[0;34m=\u001b[0m \u001b[0mself\u001b[0m\u001b[0;34m.\u001b[0m\u001b[0mf\u001b[0m\u001b[0;34m(\u001b[0m\u001b[0;34m**\u001b[0m\u001b[0mself\u001b[0m\u001b[0;34m.\u001b[0m\u001b[0mkwargs\u001b[0m\u001b[0;34m)\u001b[0m\u001b[0;34m\u001b[0m\u001b[0;34m\u001b[0m\u001b[0m\n\u001b[0m\u001b[1;32m    258\u001b[0m                 \u001b[0mshow_inline_matplotlib_plots\u001b[0m\u001b[0;34m(\u001b[0m\u001b[0;34m)\u001b[0m\u001b[0;34m\u001b[0m\u001b[0;34m\u001b[0m\u001b[0m\n\u001b[1;32m    259\u001b[0m                 \u001b[0;32mif\u001b[0m \u001b[0mself\u001b[0m\u001b[0;34m.\u001b[0m\u001b[0mauto_display\u001b[0m \u001b[0;32mand\u001b[0m \u001b[0mself\u001b[0m\u001b[0;34m.\u001b[0m\u001b[0mresult\u001b[0m \u001b[0;32mis\u001b[0m \u001b[0;32mnot\u001b[0m \u001b[0;32mNone\u001b[0m\u001b[0;34m:\u001b[0m\u001b[0;34m\u001b[0m\u001b[0;34m\u001b[0m\u001b[0m\n",
                  "\u001b[0;32m<ipython-input-35-f73681cae013>\u001b[0m in \u001b[0;36mshow_number\u001b[0;34m(n)\u001b[0m\n\u001b[1;32m      4\u001b[0m \u001b[0;32mdef\u001b[0m \u001b[0mshow_number\u001b[0m\u001b[0;34m(\u001b[0m\u001b[0mn\u001b[0m\u001b[0;34m)\u001b[0m\u001b[0;34m:\u001b[0m\u001b[0;34m\u001b[0m\u001b[0;34m\u001b[0m\u001b[0m\n\u001b[1;32m      5\u001b[0m     \u001b[0mprint\u001b[0m\u001b[0;34m(\u001b[0m\u001b[0;34m'數字圖形如下形如下, 標籤為: {}'\u001b[0m\u001b[0;34m.\u001b[0m\u001b[0mformat\u001b[0m\u001b[0;34m(\u001b[0m\u001b[0mtrain_label\u001b[0m\u001b[0;34m[\u001b[0m\u001b[0mn\u001b[0m\u001b[0;34m]\u001b[0m\u001b[0;34m)\u001b[0m\u001b[0;34m)\u001b[0m\u001b[0;34m\u001b[0m\u001b[0;34m\u001b[0m\u001b[0m\n\u001b[0;32m----> 6\u001b[0;31m     \u001b[0mplt\u001b[0m\u001b[0;34m.\u001b[0m\u001b[0mimshow\u001b[0m\u001b[0;34m(\u001b[0m\u001b[0mtrain_feature\u001b[0m\u001b[0;34m[\u001b[0m\u001b[0mn\u001b[0m\u001b[0;34m]\u001b[0m\u001b[0;34m,\u001b[0m \u001b[0mcmap\u001b[0m\u001b[0;34m=\u001b[0m\u001b[0;34m'Greys'\u001b[0m\u001b[0;34m)\u001b[0m\u001b[0;34m\u001b[0m\u001b[0;34m\u001b[0m\u001b[0m\n\u001b[0m\u001b[1;32m      7\u001b[0m \u001b[0;34m\u001b[0m\u001b[0m\n\u001b[1;32m      8\u001b[0m \u001b[0minteract\u001b[0m\u001b[0;34m(\u001b[0m\u001b[0mshow_number\u001b[0m\u001b[0;34m,\u001b[0m\u001b[0mn\u001b[0m\u001b[0;34m=\u001b[0m\u001b[0;34m(\u001b[0m\u001b[0;36m0\u001b[0m\u001b[0;34m,\u001b[0m\u001b[0;36m59999\u001b[0m\u001b[0;34m)\u001b[0m\u001b[0;34m)\u001b[0m\u001b[0;34m\u001b[0m\u001b[0;34m\u001b[0m\u001b[0m\n",
                  "\u001b[0;32m/usr/local/lib/python3.7/dist-packages/matplotlib/pyplot.py\u001b[0m in \u001b[0;36mimshow\u001b[0;34m(X, cmap, norm, aspect, interpolation, alpha, vmin, vmax, origin, extent, shape, filternorm, filterrad, imlim, resample, url, data, **kwargs)\u001b[0m\n\u001b[1;32m   2649\u001b[0m         \u001b[0mfilternorm\u001b[0m\u001b[0;34m=\u001b[0m\u001b[0mfilternorm\u001b[0m\u001b[0;34m,\u001b[0m \u001b[0mfilterrad\u001b[0m\u001b[0;34m=\u001b[0m\u001b[0mfilterrad\u001b[0m\u001b[0;34m,\u001b[0m \u001b[0mimlim\u001b[0m\u001b[0;34m=\u001b[0m\u001b[0mimlim\u001b[0m\u001b[0;34m,\u001b[0m\u001b[0;34m\u001b[0m\u001b[0;34m\u001b[0m\u001b[0m\n\u001b[1;32m   2650\u001b[0m         resample=resample, url=url, **({\"data\": data} if data is not\n\u001b[0;32m-> 2651\u001b[0;31m         None else {}), **kwargs)\n\u001b[0m\u001b[1;32m   2652\u001b[0m     \u001b[0msci\u001b[0m\u001b[0;34m(\u001b[0m\u001b[0m__ret\u001b[0m\u001b[0;34m)\u001b[0m\u001b[0;34m\u001b[0m\u001b[0;34m\u001b[0m\u001b[0m\n\u001b[1;32m   2653\u001b[0m     \u001b[0;32mreturn\u001b[0m \u001b[0m__ret\u001b[0m\u001b[0;34m\u001b[0m\u001b[0;34m\u001b[0m\u001b[0m\n",
                  "\u001b[0;32m/usr/local/lib/python3.7/dist-packages/matplotlib/__init__.py\u001b[0m in \u001b[0;36minner\u001b[0;34m(ax, data, *args, **kwargs)\u001b[0m\n\u001b[1;32m   1563\u001b[0m     \u001b[0;32mdef\u001b[0m \u001b[0minner\u001b[0m\u001b[0;34m(\u001b[0m\u001b[0max\u001b[0m\u001b[0;34m,\u001b[0m \u001b[0;34m*\u001b[0m\u001b[0margs\u001b[0m\u001b[0;34m,\u001b[0m \u001b[0mdata\u001b[0m\u001b[0;34m=\u001b[0m\u001b[0;32mNone\u001b[0m\u001b[0;34m,\u001b[0m \u001b[0;34m**\u001b[0m\u001b[0mkwargs\u001b[0m\u001b[0;34m)\u001b[0m\u001b[0;34m:\u001b[0m\u001b[0;34m\u001b[0m\u001b[0;34m\u001b[0m\u001b[0m\n\u001b[1;32m   1564\u001b[0m         \u001b[0;32mif\u001b[0m \u001b[0mdata\u001b[0m \u001b[0;32mis\u001b[0m \u001b[0;32mNone\u001b[0m\u001b[0;34m:\u001b[0m\u001b[0;34m\u001b[0m\u001b[0;34m\u001b[0m\u001b[0m\n\u001b[0;32m-> 1565\u001b[0;31m             \u001b[0;32mreturn\u001b[0m \u001b[0mfunc\u001b[0m\u001b[0;34m(\u001b[0m\u001b[0max\u001b[0m\u001b[0;34m,\u001b[0m \u001b[0;34m*\u001b[0m\u001b[0mmap\u001b[0m\u001b[0;34m(\u001b[0m\u001b[0msanitize_sequence\u001b[0m\u001b[0;34m,\u001b[0m \u001b[0margs\u001b[0m\u001b[0;34m)\u001b[0m\u001b[0;34m,\u001b[0m \u001b[0;34m**\u001b[0m\u001b[0mkwargs\u001b[0m\u001b[0;34m)\u001b[0m\u001b[0;34m\u001b[0m\u001b[0;34m\u001b[0m\u001b[0m\n\u001b[0m\u001b[1;32m   1566\u001b[0m \u001b[0;34m\u001b[0m\u001b[0m\n\u001b[1;32m   1567\u001b[0m         \u001b[0mbound\u001b[0m \u001b[0;34m=\u001b[0m \u001b[0mnew_sig\u001b[0m\u001b[0;34m.\u001b[0m\u001b[0mbind\u001b[0m\u001b[0;34m(\u001b[0m\u001b[0max\u001b[0m\u001b[0;34m,\u001b[0m \u001b[0;34m*\u001b[0m\u001b[0margs\u001b[0m\u001b[0;34m,\u001b[0m \u001b[0;34m**\u001b[0m\u001b[0mkwargs\u001b[0m\u001b[0;34m)\u001b[0m\u001b[0;34m\u001b[0m\u001b[0;34m\u001b[0m\u001b[0m\n",
                  "\u001b[0;32m/usr/local/lib/python3.7/dist-packages/matplotlib/cbook/deprecation.py\u001b[0m in \u001b[0;36mwrapper\u001b[0;34m(*args, **kwargs)\u001b[0m\n\u001b[1;32m    356\u001b[0m                 \u001b[0;34mf\"%(removal)s.  If any parameter follows {name!r}, they \"\u001b[0m\u001b[0;34m\u001b[0m\u001b[0;34m\u001b[0m\u001b[0m\n\u001b[1;32m    357\u001b[0m                 f\"should be pass as keyword, not positionally.\")\n\u001b[0;32m--> 358\u001b[0;31m         \u001b[0;32mreturn\u001b[0m \u001b[0mfunc\u001b[0m\u001b[0;34m(\u001b[0m\u001b[0;34m*\u001b[0m\u001b[0margs\u001b[0m\u001b[0;34m,\u001b[0m \u001b[0;34m**\u001b[0m\u001b[0mkwargs\u001b[0m\u001b[0;34m)\u001b[0m\u001b[0;34m\u001b[0m\u001b[0;34m\u001b[0m\u001b[0m\n\u001b[0m\u001b[1;32m    359\u001b[0m \u001b[0;34m\u001b[0m\u001b[0m\n\u001b[1;32m    360\u001b[0m     \u001b[0;32mreturn\u001b[0m \u001b[0mwrapper\u001b[0m\u001b[0;34m\u001b[0m\u001b[0;34m\u001b[0m\u001b[0m\n",
                  "\u001b[0;32m/usr/local/lib/python3.7/dist-packages/matplotlib/cbook/deprecation.py\u001b[0m in \u001b[0;36mwrapper\u001b[0;34m(*args, **kwargs)\u001b[0m\n\u001b[1;32m    356\u001b[0m                 \u001b[0;34mf\"%(removal)s.  If any parameter follows {name!r}, they \"\u001b[0m\u001b[0;34m\u001b[0m\u001b[0;34m\u001b[0m\u001b[0m\n\u001b[1;32m    357\u001b[0m                 f\"should be pass as keyword, not positionally.\")\n\u001b[0;32m--> 358\u001b[0;31m         \u001b[0;32mreturn\u001b[0m \u001b[0mfunc\u001b[0m\u001b[0;34m(\u001b[0m\u001b[0;34m*\u001b[0m\u001b[0margs\u001b[0m\u001b[0;34m,\u001b[0m \u001b[0;34m**\u001b[0m\u001b[0mkwargs\u001b[0m\u001b[0;34m)\u001b[0m\u001b[0;34m\u001b[0m\u001b[0;34m\u001b[0m\u001b[0m\n\u001b[0m\u001b[1;32m    359\u001b[0m \u001b[0;34m\u001b[0m\u001b[0m\n\u001b[1;32m    360\u001b[0m     \u001b[0;32mreturn\u001b[0m \u001b[0mwrapper\u001b[0m\u001b[0;34m\u001b[0m\u001b[0;34m\u001b[0m\u001b[0m\n",
                  "\u001b[0;32m/usr/local/lib/python3.7/dist-packages/matplotlib/axes/_axes.py\u001b[0m in \u001b[0;36mimshow\u001b[0;34m(self, X, cmap, norm, aspect, interpolation, alpha, vmin, vmax, origin, extent, shape, filternorm, filterrad, imlim, resample, url, **kwargs)\u001b[0m\n\u001b[1;32m   5624\u001b[0m                               resample=resample, **kwargs)\n\u001b[1;32m   5625\u001b[0m \u001b[0;34m\u001b[0m\u001b[0m\n\u001b[0;32m-> 5626\u001b[0;31m         \u001b[0mim\u001b[0m\u001b[0;34m.\u001b[0m\u001b[0mset_data\u001b[0m\u001b[0;34m(\u001b[0m\u001b[0mX\u001b[0m\u001b[0;34m)\u001b[0m\u001b[0;34m\u001b[0m\u001b[0;34m\u001b[0m\u001b[0m\n\u001b[0m\u001b[1;32m   5627\u001b[0m         \u001b[0mim\u001b[0m\u001b[0;34m.\u001b[0m\u001b[0mset_alpha\u001b[0m\u001b[0;34m(\u001b[0m\u001b[0malpha\u001b[0m\u001b[0;34m)\u001b[0m\u001b[0;34m\u001b[0m\u001b[0;34m\u001b[0m\u001b[0m\n\u001b[1;32m   5628\u001b[0m         \u001b[0;32mif\u001b[0m \u001b[0mim\u001b[0m\u001b[0;34m.\u001b[0m\u001b[0mget_clip_path\u001b[0m\u001b[0;34m(\u001b[0m\u001b[0;34m)\u001b[0m \u001b[0;32mis\u001b[0m \u001b[0;32mNone\u001b[0m\u001b[0;34m:\u001b[0m\u001b[0;34m\u001b[0m\u001b[0;34m\u001b[0m\u001b[0m\n",
                  "\u001b[0;32m/usr/local/lib/python3.7/dist-packages/matplotlib/image.py\u001b[0m in \u001b[0;36mset_data\u001b[0;34m(self, A)\u001b[0m\n\u001b[1;32m    697\u001b[0m                 or self._A.ndim == 3 and self._A.shape[-1] in [3, 4]):\n\u001b[1;32m    698\u001b[0m             raise TypeError(\"Invalid shape {} for image data\"\n\u001b[0;32m--> 699\u001b[0;31m                             .format(self._A.shape))\n\u001b[0m\u001b[1;32m    700\u001b[0m \u001b[0;34m\u001b[0m\u001b[0m\n\u001b[1;32m    701\u001b[0m         \u001b[0;32mif\u001b[0m \u001b[0mself\u001b[0m\u001b[0;34m.\u001b[0m\u001b[0m_A\u001b[0m\u001b[0;34m.\u001b[0m\u001b[0mndim\u001b[0m \u001b[0;34m==\u001b[0m \u001b[0;36m3\u001b[0m\u001b[0;34m:\u001b[0m\u001b[0;34m\u001b[0m\u001b[0;34m\u001b[0m\u001b[0m\n",
                  "\u001b[0;31mTypeError\u001b[0m: Invalid shape (784,) for image data"
                ]
              }
            ]
          }
        },
        "ee08c9c21e084324afefe31beba48997": {
          "model_module": "@jupyter-widgets/base",
          "model_name": "LayoutModel",
          "model_module_version": "1.2.0",
          "state": {
            "_model_module": "@jupyter-widgets/base",
            "_model_module_version": "1.2.0",
            "_model_name": "LayoutModel",
            "_view_count": null,
            "_view_module": "@jupyter-widgets/base",
            "_view_module_version": "1.2.0",
            "_view_name": "LayoutView",
            "align_content": null,
            "align_items": null,
            "align_self": null,
            "border": null,
            "bottom": null,
            "display": null,
            "flex": null,
            "flex_flow": null,
            "grid_area": null,
            "grid_auto_columns": null,
            "grid_auto_flow": null,
            "grid_auto_rows": null,
            "grid_column": null,
            "grid_gap": null,
            "grid_row": null,
            "grid_template_areas": null,
            "grid_template_columns": null,
            "grid_template_rows": null,
            "height": null,
            "justify_content": null,
            "justify_items": null,
            "left": null,
            "margin": null,
            "max_height": null,
            "max_width": null,
            "min_height": null,
            "min_width": null,
            "object_fit": null,
            "object_position": null,
            "order": null,
            "overflow": null,
            "overflow_x": null,
            "overflow_y": null,
            "padding": null,
            "right": null,
            "top": null,
            "visibility": null,
            "width": null
          }
        },
        "c8150cdfe26a4cdda763f82d913dabc7": {
          "model_module": "@jupyter-widgets/base",
          "model_name": "LayoutModel",
          "model_module_version": "1.2.0",
          "state": {
            "_model_module": "@jupyter-widgets/base",
            "_model_module_version": "1.2.0",
            "_model_name": "LayoutModel",
            "_view_count": null,
            "_view_module": "@jupyter-widgets/base",
            "_view_module_version": "1.2.0",
            "_view_name": "LayoutView",
            "align_content": null,
            "align_items": null,
            "align_self": null,
            "border": null,
            "bottom": null,
            "display": null,
            "flex": null,
            "flex_flow": null,
            "grid_area": null,
            "grid_auto_columns": null,
            "grid_auto_flow": null,
            "grid_auto_rows": null,
            "grid_column": null,
            "grid_gap": null,
            "grid_row": null,
            "grid_template_areas": null,
            "grid_template_columns": null,
            "grid_template_rows": null,
            "height": null,
            "justify_content": null,
            "justify_items": null,
            "left": null,
            "margin": null,
            "max_height": null,
            "max_width": null,
            "min_height": null,
            "min_width": null,
            "object_fit": null,
            "object_position": null,
            "order": null,
            "overflow": null,
            "overflow_x": null,
            "overflow_y": null,
            "padding": null,
            "right": null,
            "top": null,
            "visibility": null,
            "width": null
          }
        },
        "3da227393cc34357960ac9416d660c8c": {
          "model_module": "@jupyter-widgets/controls",
          "model_name": "SliderStyleModel",
          "model_module_version": "1.5.0",
          "state": {
            "_model_module": "@jupyter-widgets/controls",
            "_model_module_version": "1.5.0",
            "_model_name": "SliderStyleModel",
            "_view_count": null,
            "_view_module": "@jupyter-widgets/base",
            "_view_module_version": "1.2.0",
            "_view_name": "StyleView",
            "description_width": "",
            "handle_color": null
          }
        },
        "c0d9129a9788471b89715af792dc4405": {
          "model_module": "@jupyter-widgets/base",
          "model_name": "LayoutModel",
          "model_module_version": "1.2.0",
          "state": {
            "_model_module": "@jupyter-widgets/base",
            "_model_module_version": "1.2.0",
            "_model_name": "LayoutModel",
            "_view_count": null,
            "_view_module": "@jupyter-widgets/base",
            "_view_module_version": "1.2.0",
            "_view_name": "LayoutView",
            "align_content": null,
            "align_items": null,
            "align_self": null,
            "border": null,
            "bottom": null,
            "display": null,
            "flex": null,
            "flex_flow": null,
            "grid_area": null,
            "grid_auto_columns": null,
            "grid_auto_flow": null,
            "grid_auto_rows": null,
            "grid_column": null,
            "grid_gap": null,
            "grid_row": null,
            "grid_template_areas": null,
            "grid_template_columns": null,
            "grid_template_rows": null,
            "height": null,
            "justify_content": null,
            "justify_items": null,
            "left": null,
            "margin": null,
            "max_height": null,
            "max_width": null,
            "min_height": null,
            "min_width": null,
            "object_fit": null,
            "object_position": null,
            "order": null,
            "overflow": null,
            "overflow_x": null,
            "overflow_y": null,
            "padding": null,
            "right": null,
            "top": null,
            "visibility": null,
            "width": null
          }
        }
      }
    }
  },
  "cells": [
    {
      "cell_type": "markdown",
      "metadata": {
        "id": "view-in-github",
        "colab_type": "text"
      },
      "source": [
        "<a href=\"https://colab.research.google.com/github/benintw/DL_intro/blob/main/MNIST.ipynb\" target=\"_parent\"><img src=\"https://colab.research.google.com/assets/colab-badge.svg\" alt=\"Open In Colab\"/></a>"
      ]
    },
    {
      "cell_type": "markdown",
      "source": [
        "# 1. 收集資料"
      ],
      "metadata": {
        "id": "CJHyUCuhfPxi"
      }
    },
    {
      "cell_type": "code",
      "execution_count": 29,
      "metadata": {
        "id": "C673krVE7BU6"
      },
      "outputs": [],
      "source": [
        "from tensorflow.keras.datasets import mnist\n",
        "(train_feature, train_label), (test_feature, test_label) = mnist.load_data()"
      ]
    },
    {
      "cell_type": "code",
      "source": [
        "print(len(train_feature), len(train_label))"
      ],
      "metadata": {
        "colab": {
          "base_uri": "https://localhost:8080/"
        },
        "id": "bGpe6GtkYLI1",
        "outputId": "f2b87cb8-7096-41aa-81c3-b262603c42af"
      },
      "execution_count": 30,
      "outputs": [
        {
          "output_type": "stream",
          "name": "stdout",
          "text": [
            "60000 60000\n"
          ]
        }
      ]
    },
    {
      "cell_type": "code",
      "source": [
        "print((train_feature.shape), (train_label.shape))"
      ],
      "metadata": {
        "colab": {
          "base_uri": "https://localhost:8080/"
        },
        "id": "LtcLAZu9YlAp",
        "outputId": "e91a1688-1998-4b95-b560-cb07e6bd2f16"
      },
      "execution_count": 31,
      "outputs": [
        {
          "output_type": "stream",
          "name": "stdout",
          "text": [
            "(60000, 28, 28) (60000,)\n"
          ]
        }
      ]
    },
    {
      "cell_type": "code",
      "source": [
        "import matplotlib.pyplot as plt\n",
        "\n",
        "print('數字圖形如下形如下, 標籤為: {}'.format(train_label[12]))\n",
        "plt.imshow(train_feature[12], cmap='binary')"
      ],
      "metadata": {
        "colab": {
          "base_uri": "https://localhost:8080/",
          "height": 299
        },
        "id": "FVAm10NxYsmo",
        "outputId": "aff0b2be-0951-4731-a014-5999677b5eb3"
      },
      "execution_count": 32,
      "outputs": [
        {
          "output_type": "stream",
          "name": "stdout",
          "text": [
            "數字圖形如下形如下, 標籤為: 3\n"
          ]
        },
        {
          "output_type": "execute_result",
          "data": {
            "text/plain": [
              "<matplotlib.image.AxesImage at 0x7f1a8433e990>"
            ]
          },
          "metadata": {},
          "execution_count": 32
        },
        {
          "output_type": "display_data",
          "data": {
            "text/plain": [
              "<Figure size 432x288 with 1 Axes>"
            ],
            "image/png": "[encoded data removed]"
          },
          "metadata": {
            "needs_background": "light"
          }
        }
      ]
    },
    {
      "cell_type": "code",
      "source": [
        "print(train_feature[12])"
      ],
      "metadata": {
        "colab": {
          "base_uri": "https://localhost:8080/"
        },
        "id": "1Ljoqy2bZJha",
        "outputId": "5f069ae6-04c3-4a1d-cbe9-9d25faab6e25"
      },
      "execution_count": 33,
      "outputs": [
        {
          "output_type": "stream",
          "name": "stdout",
          "text": [
            "[[  0   0   0   0   0   0   0   0   0   0   0   0   0   0   0   0   0   0\n",
            "    0   0   0   0   0   0   0   0   0   0]\n",
            " [  0   0   0   0   0   0   0   0   0   0   0   0   0   0   0   0   0   0\n",
            "    0   0   0   0   0   0   0   0   0   0]\n",
            " [  0   0   0   0   0   0   0   0   0   0   0   0   0   0   0   0   0   0\n",
            "    0   0   0   0   0   0   0   0   0   0]\n",
            " [  0   0   0   0   0   0   0   0   0   0   0   0   0   0   0   0   0   0\n",
            "    0   0   0   0   0   0   0   0   0   0]\n",
            " [  0   0   0   0   0   0   0   0   0   0   0   0   0   0   0   0   0   0\n",
            "    0   0   0   0   0   0   0   0   0   0]\n",
            " [  0   0   0  12  99  91 142 155 246 182 155 155 155 155 131  52   0   0\n",
            "    0   0   0   0   0   0   0   0   0   0]\n",
            " [  0   0   0 138 254 254 254 254 254 254 254 254 254 254 254 252 210 122\n",
            "   33   0   0   0   0   0   0   0   0   0]\n",
            " [  0   0   0 220 254 254 254 235 189 189 189 189 150 189 205 254 254 254\n",
            "   75   0   0   0   0   0   0   0   0   0]\n",
            " [  0   0   0  35  74  35  35  25   0   0   0   0   0   0  13 224 254 254\n",
            "  153   0   0   0   0   0   0   0   0   0]\n",
            " [  0   0   0   0   0   0   0   0   0   0   0   0   0   0  90 254 254 247\n",
            "   53   0   0   0   0   0   0   0   0   0]\n",
            " [  0   0   0   0   0   0   0   0   0   0   0   0   6 152 246 254 254  49\n",
            "    0   0   0   0   0   0   0   0   0   0]\n",
            " [  0   0   0   0   0   0   0   0   0   0   0  66 158 254 254 249 103   8\n",
            "    0   0   0   0   0   0   0   0   0   0]\n",
            " [  0   0   0   0   0   0   0   0   0   0  54 251 254 254 254 248  74   5\n",
            "    0   0   0   0   0   0   0   0   0   0]\n",
            " [  0   0   0   0   0   0   0   0   0   0 140 254 254 254 254 254 254 202\n",
            "  125  45   0   0   0   0   0   0   0   0]\n",
            " [  0   0   0   0   0   0   0   0   0   0  58 181 234 254 254 254 254 254\n",
            "  254 252 140  22   0   0   0   0   0   0]\n",
            " [  0   0   0   0   0   0   0   0   0   0   0   0  30  50  73 155 253 254\n",
            "  254 254 254 191   2   0   0   0   0   0]\n",
            " [  0   0   0   0   0   0   0   0   0   0   0   0   0   0   0   0  91 200\n",
            "  254 254 254 254 118   0   0   0   0   0]\n",
            " [  0   0   0   0   0   0   0   0   0   0   0   0   0   0   0   0   0   4\n",
            "  192 254 254 254 154   0   0   0   0   0]\n",
            " [  0   0   0   0   0   0   0   0   0   0   0   0   0   0   0   0   0   0\n",
            "  141 254 254 254 116   0   0   0   0   0]\n",
            " [  0   0   0   0   0   0   0   0  25 126  86   0   0   0   0   0   0   3\n",
            "  188 254 254 250  61   0   0   0   0   0]\n",
            " [  0   0   0   0   0   0   0  24 209 254  15   0   0   0   0   0  23 137\n",
            "  254 254 254 209   0   0   0   0   0   0]\n",
            " [  0   0   0   0   0   0   0 168 254 254  48   9   0   0   9 127 241 254\n",
            "  254 255 242  63   0   0   0   0   0   0]\n",
            " [  0   0   0   0   0   0   0 101 254 254 254 205 190 190 205 254 254 254\n",
            "  254 242  67   0   0   0   0   0   0   0]\n",
            " [  0   0   0   0   0   0   0  33 166 254 254 254 254 254 254 254 254 250\n",
            "  138  55   0   0   0   0   0   0   0   0]\n",
            " [  0   0   0   0   0   0   0   0   7  88 154 116 194 194 154 154  88  49\n",
            "    0   0   0   0   0   0   0   0   0   0]\n",
            " [  0   0   0   0   0   0   0   0   0   0   0   0   0   0   0   0   0   0\n",
            "    0   0   0   0   0   0   0   0   0   0]\n",
            " [  0   0   0   0   0   0   0   0   0   0   0   0   0   0   0   0   0   0\n",
            "    0   0   0   0   0   0   0   0   0   0]\n",
            " [  0   0   0   0   0   0   0   0   0   0   0   0   0   0   0   0   0   0\n",
            "    0   0   0   0   0   0   0   0   0   0]]\n"
          ]
        }
      ]
    },
    {
      "cell_type": "code",
      "source": [
        "print(train_label[12])"
      ],
      "metadata": {
        "colab": {
          "base_uri": "https://localhost:8080/"
        },
        "id": "tQ5p7CMAZYdZ",
        "outputId": "c83e6cc7-cfb8-4bf8-9c7f-a2006cb29432"
      },
      "execution_count": 34,
      "outputs": [
        {
          "output_type": "stream",
          "name": "stdout",
          "text": [
            "3\n"
          ]
        }
      ]
    },
    {
      "cell_type": "markdown",
      "source": [
        "## 使用ipywidgets \n",
        "#### 建立滑桿快速查看圖片\n",
        "- 語法為:\n",
        "\n",
        "```python\n",
        "interact(function_name, variable_name = (range))\n",
        "```"
      ],
      "metadata": {
        "id": "PCDAO3JTZrr7"
      }
    },
    {
      "cell_type": "code",
      "source": [
        "from ipywidgets import interact\n",
        "import matplotlib.pyplot as plt\n",
        "\n",
        "def show_number(n):\n",
        "    print('數字圖形如下形如下, 標籤為: {}'.format(train_label[n]))\n",
        "    plt.imshow(train_feature[n], cmap='Greys')\n",
        "\n",
        "interact(show_number,n=(0,59999))"
      ],
      "metadata": {
        "colab": {
          "base_uri": "https://localhost:8080/",
          "height": 945,
          "referenced_widgets": [
            "c95a0e5dc79c4994ac64b500592518f6",
            "eaf563c1b1a84cf2bf1fcd4f765a2491",
            "5a7a25db1aea4ed483e0538cd7213c2c",
            "ee08c9c21e084324afefe31beba48997",
            "c8150cdfe26a4cdda763f82d913dabc7",
            "3da227393cc34357960ac9416d660c8c",
            "c0d9129a9788471b89715af792dc4405"
          ]
        },
        "id": "wjeQ15qGZkJE",
        "outputId": "b820f33a-62e0-424e-f02f-8e4a006f3929"
      },
      "execution_count": 35,
      "outputs": [
        {
          "output_type": "display_data",
          "data": {
            "text/plain": [
              "interactive(children=(IntSlider(value=29999, description='n', max=59999), Output()), _dom_classes=('widget-int…"
            ],
            "application/vnd.jupyter.widget-view+json": {
              "version_major": 2,
              "version_minor": 0,
              "model_id": "c95a0e5dc79c4994ac64b500592518f6"
            }
          },
          "metadata": {}
        },
        {
          "output_type": "execute_result",
          "data": {
            "text/plain": [
              "<function __main__.show_number>"
            ]
          },
          "metadata": {},
          "execution_count": 35
        },
        {
          "output_type": "display_data",
          "data": {
            "text/plain": [
              "<Figure size 432x288 with 1 Axes>"
            ],
            "image/png": "[encoded data removed]"
          },
          "metadata": {
            "needs_background": "light"
          }
        },
        {
          "output_type": "display_data",
          "data": {
            "text/plain": [
              "<Figure size 432x288 with 1 Axes>"
            ],
            "image/png": "[encoded data removed]"
          },
          "metadata": {
            "needs_background": "light"
          }
        }
      ]
    },
    {
      "cell_type": "markdown",
      "source": [
        "# 2. 資料預處理\n",
        "## 2.1 特徵資料預處理\n",
        "- 每一個 MNIST 數字圖片都是一張一張28x28 的2維向量圖片, \n",
        "必須轉換為必須轉換為 784個數值的1維向量, 並將數值標準化, 才能增加模型訓練的效率. "
      ],
      "metadata": {
        "id": "n_WhUrpQavv_"
      }
    },
    {
      "cell_type": "code",
      "source": [
        "train_feature = train_feature.reshape(len(train_feature), 784) # reshape\n",
        "test_feature = test_feature.reshape(len(test_feature),784) # reshape\n",
        "print(train_feature.shape, test_feature.shape)"
      ],
      "metadata": {
        "colab": {
          "base_uri": "https://localhost:8080/"
        },
        "id": "StE19w9gbE76",
        "outputId": "be658927-b692-426d-98db-dd3d89014a14"
      },
      "execution_count": 36,
      "outputs": [
        {
          "output_type": "stream",
          "name": "stdout",
          "text": [
            "(60000, 784) (10000, 784)\n"
          ]
        }
      ]
    },
    {
      "cell_type": "code",
      "source": [
        "print(type(train_feature))"
      ],
      "metadata": {
        "colab": {
          "base_uri": "https://localhost:8080/"
        },
        "id": "k0oDK8FHbV0R",
        "outputId": "c6bd5134-7b76-4b0e-a740-54c1b1bd2c95"
      },
      "execution_count": 37,
      "outputs": [
        {
          "output_type": "stream",
          "name": "stdout",
          "text": [
            "<class 'numpy.ndarray'>\n"
          ]
        }
      ]
    },
    {
      "cell_type": "code",
      "source": [
        "print(train_feature[0]) # shape = (784,1)"
      ],
      "metadata": {
        "colab": {
          "base_uri": "https://localhost:8080/"
        },
        "id": "zA1EZfCHb0O6",
        "outputId": "cb2e41c8-6634-403f-d9c9-042102360ddd"
      },
      "execution_count": 38,
      "outputs": [
        {
          "output_type": "stream",
          "name": "stdout",
          "text": [
            "[  0   0   0   0   0   0   0   0   0   0   0   0   0   0   0   0   0   0\n",
            "   0   0   0   0   0   0   0   0   0   0   0   0   0   0   0   0   0   0\n",
            "   0   0   0   0   0   0   0   0   0   0   0   0   0   0   0   0   0   0\n",
            "   0   0   0   0   0   0   0   0   0   0   0   0   0   0   0   0   0   0\n",
            "   0   0   0   0   0   0   0   0   0   0   0   0   0   0   0   0   0   0\n",
            "   0   0   0   0   0   0   0   0   0   0   0   0   0   0   0   0   0   0\n",
            "   0   0   0   0   0   0   0   0   0   0   0   0   0   0   0   0   0   0\n",
            "   0   0   0   0   0   0   0   0   0   0   0   0   0   0   0   0   0   0\n",
            "   0   0   0   0   0   0   0   0   3  18  18  18 126 136 175  26 166 255\n",
            " 247 127   0   0   0   0   0   0   0   0   0   0   0   0  30  36  94 154\n",
            " 170 253 253 253 253 253 225 172 253 242 195  64   0   0   0   0   0   0\n",
            "   0   0   0   0   0  49 238 253 253 253 253 253 253 253 253 251  93  82\n",
            "  82  56  39   0   0   0   0   0   0   0   0   0   0   0   0  18 219 253\n",
            " 253 253 253 253 198 182 247 241   0   0   0   0   0   0   0   0   0   0\n",
            "   0   0   0   0   0   0   0   0  80 156 107 253 253 205  11   0  43 154\n",
            "   0   0   0   0   0   0   0   0   0   0   0   0   0   0   0   0   0   0\n",
            "   0  14   1 154 253  90   0   0   0   0   0   0   0   0   0   0   0   0\n",
            "   0   0   0   0   0   0   0   0   0   0   0   0   0 139 253 190   2   0\n",
            "   0   0   0   0   0   0   0   0   0   0   0   0   0   0   0   0   0   0\n",
            "   0   0   0   0   0  11 190 253  70   0   0   0   0   0   0   0   0   0\n",
            "   0   0   0   0   0   0   0   0   0   0   0   0   0   0   0   0  35 241\n",
            " 225 160 108   1   0   0   0   0   0   0   0   0   0   0   0   0   0   0\n",
            "   0   0   0   0   0   0   0   0   0  81 240 253 253 119  25   0   0   0\n",
            "   0   0   0   0   0   0   0   0   0   0   0   0   0   0   0   0   0   0\n",
            "   0   0  45 186 253 253 150  27   0   0   0   0   0   0   0   0   0   0\n",
            "   0   0   0   0   0   0   0   0   0   0   0   0   0  16  93 252 253 187\n",
            "   0   0   0   0   0   0   0   0   0   0   0   0   0   0   0   0   0   0\n",
            "   0   0   0   0   0   0   0 249 253 249  64   0   0   0   0   0   0   0\n",
            "   0   0   0   0   0   0   0   0   0   0   0   0   0   0  46 130 183 253\n",
            " 253 207   2   0   0   0   0   0   0   0   0   0   0   0   0   0   0   0\n",
            "   0   0   0   0  39 148 229 253 253 253 250 182   0   0   0   0   0   0\n",
            "   0   0   0   0   0   0   0   0   0   0   0   0  24 114 221 253 253 253\n",
            " 253 201  78   0   0   0   0   0   0   0   0   0   0   0   0   0   0   0\n",
            "   0   0  23  66 213 253 253 253 253 198  81   2   0   0   0   0   0   0\n",
            "   0   0   0   0   0   0   0   0   0   0  18 171 219 253 253 253 253 195\n",
            "  80   9   0   0   0   0   0   0   0   0   0   0   0   0   0   0   0   0\n",
            "  55 172 226 253 253 253 253 244 133  11   0   0   0   0   0   0   0   0\n",
            "   0   0   0   0   0   0   0   0   0   0 136 253 253 253 212 135 132  16\n",
            "   0   0   0   0   0   0   0   0   0   0   0   0   0   0   0   0   0   0\n",
            "   0   0   0   0   0   0   0   0   0   0   0   0   0   0   0   0   0   0\n",
            "   0   0   0   0   0   0   0   0   0   0   0   0   0   0   0   0   0   0\n",
            "   0   0   0   0   0   0   0   0   0   0   0   0   0   0   0   0   0   0\n",
            "   0   0   0   0   0   0   0   0   0   0   0   0   0   0   0   0   0   0\n",
            "   0   0   0   0   0   0   0   0   0   0]\n"
          ]
        }
      ]
    },
    {
      "cell_type": "code",
      "source": [
        "train_feature[0].shape"
      ],
      "metadata": {
        "colab": {
          "base_uri": "https://localhost:8080/"
        },
        "id": "uIipew55cs-e",
        "outputId": "9ca08b47-f183-4b5c-9039-fa35ac3c910c"
      },
      "execution_count": 39,
      "outputs": [
        {
          "output_type": "execute_result",
          "data": {
            "text/plain": [
              "(784,)"
            ]
          },
          "metadata": {},
          "execution_count": 39
        }
      ]
    },
    {
      "cell_type": "code",
      "source": [
        "# 做標準化標準化 num / 255 \n",
        "train_feature = train_feature / 255\n",
        "test_feature = test_feature / 255\n",
        "print(test_feature[0]) "
      ],
      "metadata": {
        "colab": {
          "base_uri": "https://localhost:8080/"
        },
        "id": "FYSa1GjAb3vp",
        "outputId": "d7e1ef6a-d3be-4b3f-c7f6-f22d6cc6e4a8"
      },
      "execution_count": 40,
      "outputs": [
        {
          "output_type": "stream",
          "name": "stdout",
          "text": [
            "[0.         0.         0.         0.         0.         0.\n",
            " 0.         0.         0.         0.         0.         0.\n",
            " 0.         0.         0.         0.         0.         0.\n",
            " 0.         0.         0.         0.         0.         0.\n",
            " 0.         0.         0.         0.         0.         0.\n",
            " 0.         0.         0.         0.         0.         0.\n",
            " 0.         0.         0.         0.         0.         0.\n",
            " 0.         0.         0.         0.         0.         0.\n",
            " 0.         0.         0.         0.         0.         0.\n",
            " 0.         0.         0.         0.         0.         0.\n",
            " 0.         0.         0.         0.         0.         0.\n",
            " 0.         0.         0.         0.         0.         0.\n",
            " 0.         0.         0.         0.         0.         0.\n",
            " 0.         0.         0.         0.         0.         0.\n",
            " 0.         0.         0.         0.         0.         0.\n",
            " 0.         0.         0.         0.         0.         0.\n",
            " 0.         0.         0.         0.         0.         0.\n",
            " 0.         0.         0.         0.         0.         0.\n",
            " 0.         0.         0.         0.         0.         0.\n",
            " 0.         0.         0.         0.         0.         0.\n",
            " 0.         0.         0.         0.         0.         0.\n",
            " 0.         0.         0.         0.         0.         0.\n",
            " 0.         0.         0.         0.         0.         0.\n",
            " 0.         0.         0.         0.         0.         0.\n",
            " 0.         0.         0.         0.         0.         0.\n",
            " 0.         0.         0.         0.         0.         0.\n",
            " 0.         0.         0.         0.         0.         0.\n",
            " 0.         0.         0.         0.         0.         0.\n",
            " 0.         0.         0.         0.         0.         0.\n",
            " 0.         0.         0.         0.         0.         0.\n",
            " 0.         0.         0.         0.         0.         0.\n",
            " 0.         0.         0.         0.         0.         0.\n",
            " 0.         0.         0.         0.         0.         0.\n",
            " 0.         0.         0.         0.         0.32941176 0.7254902\n",
            " 0.62352941 0.59215686 0.23529412 0.14117647 0.         0.\n",
            " 0.         0.         0.         0.         0.         0.\n",
            " 0.         0.         0.         0.         0.         0.\n",
            " 0.         0.         0.         0.         0.         0.\n",
            " 0.         0.         0.87058824 0.99607843 0.99607843 0.99607843\n",
            " 0.99607843 0.94509804 0.77647059 0.77647059 0.77647059 0.77647059\n",
            " 0.77647059 0.77647059 0.77647059 0.77647059 0.66666667 0.20392157\n",
            " 0.         0.         0.         0.         0.         0.\n",
            " 0.         0.         0.         0.         0.         0.\n",
            " 0.2627451  0.44705882 0.28235294 0.44705882 0.63921569 0.89019608\n",
            " 0.99607843 0.88235294 0.99607843 0.99607843 0.99607843 0.98039216\n",
            " 0.89803922 0.99607843 0.99607843 0.54901961 0.         0.\n",
            " 0.         0.         0.         0.         0.         0.\n",
            " 0.         0.         0.         0.         0.         0.\n",
            " 0.         0.         0.         0.06666667 0.25882353 0.05490196\n",
            " 0.2627451  0.2627451  0.2627451  0.23137255 0.08235294 0.9254902\n",
            " 0.99607843 0.41568627 0.         0.         0.         0.\n",
            " 0.         0.         0.         0.         0.         0.\n",
            " 0.         0.         0.         0.         0.         0.\n",
            " 0.         0.         0.         0.         0.         0.\n",
            " 0.         0.         0.3254902  0.99215686 0.81960784 0.07058824\n",
            " 0.         0.         0.         0.         0.         0.\n",
            " 0.         0.         0.         0.         0.         0.\n",
            " 0.         0.         0.         0.         0.         0.\n",
            " 0.         0.         0.         0.         0.         0.08627451\n",
            " 0.91372549 1.         0.3254902  0.         0.         0.\n",
            " 0.         0.         0.         0.         0.         0.\n",
            " 0.         0.         0.         0.         0.         0.\n",
            " 0.         0.         0.         0.         0.         0.\n",
            " 0.         0.         0.         0.50588235 0.99607843 0.93333333\n",
            " 0.17254902 0.         0.         0.         0.         0.\n",
            " 0.         0.         0.         0.         0.         0.\n",
            " 0.         0.         0.         0.         0.         0.\n",
            " 0.         0.         0.         0.         0.         0.\n",
            " 0.23137255 0.97647059 0.99607843 0.24313725 0.         0.\n",
            " 0.         0.         0.         0.         0.         0.\n",
            " 0.         0.         0.         0.         0.         0.\n",
            " 0.         0.         0.         0.         0.         0.\n",
            " 0.         0.         0.         0.         0.52156863 0.99607843\n",
            " 0.73333333 0.01960784 0.         0.         0.         0.\n",
            " 0.         0.         0.         0.         0.         0.\n",
            " 0.         0.         0.         0.         0.         0.\n",
            " 0.         0.         0.         0.         0.         0.\n",
            " 0.         0.03529412 0.80392157 0.97254902 0.22745098 0.\n",
            " 0.         0.         0.         0.         0.         0.\n",
            " 0.         0.         0.         0.         0.         0.\n",
            " 0.         0.         0.         0.         0.         0.\n",
            " 0.         0.         0.         0.         0.         0.49411765\n",
            " 0.99607843 0.71372549 0.         0.         0.         0.\n",
            " 0.         0.         0.         0.         0.         0.\n",
            " 0.         0.         0.         0.         0.         0.\n",
            " 0.         0.         0.         0.         0.         0.\n",
            " 0.         0.         0.29411765 0.98431373 0.94117647 0.22352941\n",
            " 0.         0.         0.         0.         0.         0.\n",
            " 0.         0.         0.         0.         0.         0.\n",
            " 0.         0.         0.         0.         0.         0.\n",
            " 0.         0.         0.         0.         0.         0.0745098\n",
            " 0.86666667 0.99607843 0.65098039 0.         0.         0.\n",
            " 0.         0.         0.         0.         0.         0.\n",
            " 0.         0.         0.         0.         0.         0.\n",
            " 0.         0.         0.         0.         0.         0.\n",
            " 0.         0.         0.01176471 0.79607843 0.99607843 0.85882353\n",
            " 0.1372549  0.         0.         0.         0.         0.\n",
            " 0.         0.         0.         0.         0.         0.\n",
            " 0.         0.         0.         0.         0.         0.\n",
            " 0.         0.         0.         0.         0.         0.\n",
            " 0.14901961 0.99607843 0.99607843 0.30196078 0.         0.\n",
            " 0.         0.         0.         0.         0.         0.\n",
            " 0.         0.         0.         0.         0.         0.\n",
            " 0.         0.         0.         0.         0.         0.\n",
            " 0.         0.         0.         0.12156863 0.87843137 0.99607843\n",
            " 0.45098039 0.00392157 0.         0.         0.         0.\n",
            " 0.         0.         0.         0.         0.         0.\n",
            " 0.         0.         0.         0.         0.         0.\n",
            " 0.         0.         0.         0.         0.         0.\n",
            " 0.         0.52156863 0.99607843 0.99607843 0.20392157 0.\n",
            " 0.         0.         0.         0.         0.         0.\n",
            " 0.         0.         0.         0.         0.         0.\n",
            " 0.         0.         0.         0.         0.         0.\n",
            " 0.         0.         0.         0.         0.23921569 0.94901961\n",
            " 0.99607843 0.99607843 0.20392157 0.         0.         0.\n",
            " 0.         0.         0.         0.         0.         0.\n",
            " 0.         0.         0.         0.         0.         0.\n",
            " 0.         0.         0.         0.         0.         0.\n",
            " 0.         0.         0.4745098  0.99607843 0.99607843 0.85882353\n",
            " 0.15686275 0.         0.         0.         0.         0.\n",
            " 0.         0.         0.         0.         0.         0.\n",
            " 0.         0.         0.         0.         0.         0.\n",
            " 0.         0.         0.         0.         0.         0.\n",
            " 0.4745098  0.99607843 0.81176471 0.07058824 0.         0.\n",
            " 0.         0.         0.         0.         0.         0.\n",
            " 0.         0.         0.         0.         0.         0.\n",
            " 0.         0.         0.         0.         0.         0.\n",
            " 0.         0.         0.         0.         0.         0.\n",
            " 0.         0.         0.         0.         0.         0.\n",
            " 0.         0.         0.         0.         0.         0.\n",
            " 0.         0.         0.         0.        ]\n"
          ]
        }
      ]
    },
    {
      "cell_type": "markdown",
      "source": [
        "## 2.2 標籤資料預處理\n",
        "- 標籤值0~9 的數字, 為了避免數值大小的干擾, 將其轉換為轉換為 One-Hot 編碼\n",
        "- 使用np_utils.to_categorical() 方法可以將數字轉換為為One-Hot 編碼"
      ],
      "metadata": {
        "id": "9g6LS2lEftXh"
      }
    },
    {
      "cell_type": "code",
      "source": [
        "print(train_label[:5])"
      ],
      "metadata": {
        "colab": {
          "base_uri": "https://localhost:8080/"
        },
        "id": "AmmlcxCocm29",
        "outputId": "3aa9186f-4c76-413c-88ab-61f2fd68d171"
      },
      "execution_count": 41,
      "outputs": [
        {
          "output_type": "stream",
          "name": "stdout",
          "text": [
            "[5 0 4 1 9]\n"
          ]
        }
      ]
    },
    {
      "cell_type": "code",
      "source": [
        "from keras.utils import np_utils\n",
        "train_label = np_utils.to_categorical(train_label)\n",
        "test_label = np_utils.to_categorical(test_label)\n",
        "print(train_label[0:5])"
      ],
      "metadata": {
        "colab": {
          "base_uri": "https://localhost:8080/"
        },
        "id": "HrTXxZOUgFeb",
        "outputId": "136c31ab-503f-4c7c-bb66-d744d5169954"
      },
      "execution_count": 42,
      "outputs": [
        {
          "output_type": "stream",
          "name": "stdout",
          "text": [
            "[[0. 0. 0. 0. 0. 1. 0. 0. 0. 0.]\n",
            " [1. 0. 0. 0. 0. 0. 0. 0. 0. 0.]\n",
            " [0. 0. 0. 0. 1. 0. 0. 0. 0. 0.]\n",
            " [0. 1. 0. 0. 0. 0. 0. 0. 0. 0.]\n",
            " [0. 0. 0. 0. 0. 0. 0. 0. 0. 1.]]\n"
          ]
        }
      ]
    },
    {
      "cell_type": "markdown",
      "source": [
        "# 3. 建立模型"
      ],
      "metadata": {
        "id": "dorpr2nvgzBa"
      }
    },
    {
      "cell_type": "code",
      "source": [
        "# 建立3個隱藏層的深度神經網路模型:\n",
        "from tensorflow.keras.models import Sequential\n",
        "from tensorflow.keras.layers import Dense"
      ],
      "metadata": {
        "id": "k_VQQ-K_gtfG"
      },
      "execution_count": 43,
      "outputs": []
    },
    {
      "cell_type": "code",
      "source": [
        "# 建立建立Sequential物件物件\n",
        "model = Sequential()"
      ],
      "metadata": {
        "id": "_Z8_jVAchRBD"
      },
      "execution_count": 44,
      "outputs": []
    },
    {
      "cell_type": "code",
      "source": [
        "# 建立FNN:\n",
        "    # units: 神經元數量數量\n",
        "    # input_dim: 此參數非必填, 若設定此參數參數, 表示建立輸入層及第一層隱藏層, 參數值為輸入資料數量; 若為設定此參數參數, 表示建立隱藏層或輸出層.\n",
        "    # activation: 設定激勵函式激勵函式\n",
        "\n",
        "# 首先建立輸入層及第1層, 輸入資料輸入資料784, 神經元50個, 激勵函式ReLU\n",
        "model.add(Dense(units= 50, input_dim= 784, activation= 'relu'))\n",
        "\n",
        "# 第2層以後就不需要設定輸入資料數量, 因為其輸入是由前一層而來, 系統會自動計算輸入資料數量.\n",
        "# 第2層有100個神經元, \n",
        "model.add(Dense(units=100, activation='relu'))\n",
        "\n",
        "# 第3層有200個神經元\n",
        "model.add(Dense(units=200, activation='relu'))\n",
        "\n",
        "# 最後建立輸出層: 輸出資料有10個, 激勵函式為為SoftMax\n",
        "model.add(Dense(units=10, activation='softmax'))\n"
      ],
      "metadata": {
        "id": "cWbLr0hEheGy"
      },
      "execution_count": 45,
      "outputs": []
    },
    {
      "cell_type": "code",
      "source": [
        "# 建立完模型後, 查看模型的權重數量是否合乎預期\n",
        "model.summary()\n",
        "\n",
        "# 66,560 為權重總數\n",
        "# 計算方式:\n",
        "# 輸入資料數數 * 神經元數 + 偏置數"
      ],
      "metadata": {
        "colab": {
          "base_uri": "https://localhost:8080/"
        },
        "id": "a0hdeHJEkveF",
        "outputId": "cbc7247e-7fd1-440b-be50-820cebb35a92"
      },
      "execution_count": 46,
      "outputs": [
        {
          "output_type": "stream",
          "name": "stdout",
          "text": [
            "Model: \"sequential_1\"\n",
            "_________________________________________________________________\n",
            " Layer (type)                Output Shape              Param #   \n",
            "=================================================================\n",
            " dense_4 (Dense)             (None, 50)                39250     \n",
            "                                                                 \n",
            " dense_5 (Dense)             (None, 100)               5100      \n",
            "                                                                 \n",
            " dense_6 (Dense)             (None, 200)               20200     \n",
            "                                                                 \n",
            " dense_7 (Dense)             (None, 10)                2010      \n",
            "                                                                 \n",
            "=================================================================\n",
            "Total params: 66,560\n",
            "Trainable params: 66,560\n",
            "Non-trainable params: 0\n",
            "_________________________________________________________________\n"
          ]
        }
      ]
    },
    {
      "cell_type": "markdown",
      "source": [
        "# 4. 訓練模型"
      ],
      "metadata": {
        "id": "BxjrIbXTl20u"
      }
    },
    {
      "cell_type": "code",
      "source": [
        "# 先設定模型的訓練方式\n",
        "# 模型變數.compile(loss = 損失函式, optimizer = 最佳化函式, metrics = 評估標準)\n",
        "    # loss: 常用函式有 mean_squared_error 或 categorical_crossentropy\n",
        "    # optimizer: sgd, rmsprop, adam\n",
        "    # metrics: 此參數非必填. 常用值: accuracy 或 mse\n",
        "model. compile(loss='categorical_crossentropy',optimizer='adam', metrics=['accuracy'])\n",
        "\n",
        "# 然後用用fit( )方法進行訓練,\n",
        "# 模型變數.fit(x=特徵值, y=標籤, validation_split = 驗證資料比率, epochs=訓練次數, shuffle=布林值, \n",
        "#               batch_size = 批次資料數量, verbose=顯示模式)\n",
        "    # x: 設定訓練特徵值\n",
        "    # y: 設定訓練標籤值\n",
        "    # validation_split = 非必填. 設定驗證資料比率, 例如0.2 表示將訓練資料保留20%當作驗證資料. 預設值為0 即全部資料都會做訓練用.\n",
        "    # epochs: 非必填, 設定訓練次數, 預設值為1.\n",
        "    # shuffle: 非必填, True 為先將資料打亂再進行訓練, 預設為True\n",
        "    # batch_size: 非必填, 設定每次處理的資料筆數, 預設為1. \n",
        "    # verbose: 非必填, 設定是否顯示訓練過程, 0為不顯示, 1為詳細顯示, 2為簡易顯示. auto為由系統決定, 預設為auto.\n",
        "model.fit(x = train_feature, y = train_label, validation_split=0.2,epochs=10, batch_size=200, verbose=2)\n",
        "    # 訓練資料保留20%作為驗證資料\n",
        "    # 訓練10次\n",
        "    # 每批處理200筆資料\n",
        "    # 簡易顯示訓練過程\n",
        "\n",
        "# loss: 使用訓練資料時時, 得到的損失函式誤差值(越小代表準確率越高)\n",
        "# accuracy: 使用訓練資料時時, 得到的評估準確率(值在0~1, 越大代表準確率越高)\n",
        "# val_loss: 使用驗證資料時, 得到的損失函式誤差值(越小代表準確率越高)\n",
        "# val_accuracy: 使用驗證資料時時, 得到的評估準確率(值在0~1, 越大代表準確率越高)"
      ],
      "metadata": {
        "colab": {
          "base_uri": "https://localhost:8080/"
        },
        "id": "hOg9k58Hk-b-",
        "outputId": "8e945db6-341b-472a-ca38-6e380b383a48"
      },
      "execution_count": 47,
      "outputs": [
        {
          "output_type": "stream",
          "name": "stdout",
          "text": [
            "Epoch 1/10\n",
            "240/240 - 1s - loss: 0.4756 - accuracy: 0.8626 - val_loss: 0.2119 - val_accuracy: 0.9385 - 1s/epoch - 5ms/step\n",
            "Epoch 2/10\n",
            "240/240 - 1s - loss: 0.1797 - accuracy: 0.9469 - val_loss: 0.1568 - val_accuracy: 0.9551 - 717ms/epoch - 3ms/step\n",
            "Epoch 3/10\n",
            "240/240 - 1s - loss: 0.1371 - accuracy: 0.9584 - val_loss: 0.1456 - val_accuracy: 0.9557 - 662ms/epoch - 3ms/step\n",
            "Epoch 4/10\n",
            "240/240 - 1s - loss: 0.1101 - accuracy: 0.9662 - val_loss: 0.1210 - val_accuracy: 0.9618 - 708ms/epoch - 3ms/step\n",
            "Epoch 5/10\n",
            "240/240 - 1s - loss: 0.0930 - accuracy: 0.9724 - val_loss: 0.1282 - val_accuracy: 0.9612 - 688ms/epoch - 3ms/step\n",
            "Epoch 6/10\n",
            "240/240 - 1s - loss: 0.0787 - accuracy: 0.9756 - val_loss: 0.1109 - val_accuracy: 0.9667 - 678ms/epoch - 3ms/step\n",
            "Epoch 7/10\n",
            "240/240 - 1s - loss: 0.0685 - accuracy: 0.9783 - val_loss: 0.1090 - val_accuracy: 0.9683 - 658ms/epoch - 3ms/step\n",
            "Epoch 8/10\n",
            "240/240 - 1s - loss: 0.0578 - accuracy: 0.9818 - val_loss: 0.1119 - val_accuracy: 0.9686 - 713ms/epoch - 3ms/step\n",
            "Epoch 9/10\n",
            "240/240 - 1s - loss: 0.0494 - accuracy: 0.9848 - val_loss: 0.1088 - val_accuracy: 0.9694 - 718ms/epoch - 3ms/step\n",
            "Epoch 10/10\n",
            "240/240 - 1s - loss: 0.0428 - accuracy: 0.9864 - val_loss: 0.1041 - val_accuracy: 0.9707 - 647ms/epoch - 3ms/step\n"
          ]
        },
        {
          "output_type": "execute_result",
          "data": {
            "text/plain": [
              "<keras.callbacks.History at 0x7f1a84291f90>"
            ]
          },
          "metadata": {},
          "execution_count": 47
        }
      ]
    },
    {
      "cell_type": "markdown",
      "source": [
        "# 5. 評估模型準確率"
      ],
      "metadata": {
        "id": "jtMiy1Kop0QH"
      }
    },
    {
      "cell_type": "code",
      "source": [
        "# evaluate() 方法可以評估模型的損失函示誤差值和準確率\n",
        "# 評估變數 = 模型變數.evaluate(x = 特徵值, y = 標籤, verbose = 顯示模式)\n",
        "    # x: 設定評估資料特徵值\n",
        "    # y: 設定評估資料標籤值\n",
        "    # verbose: 非必填, 設定是否顯示訓練過程, 0為不顯示, 1為詳細顯示, 2為簡易顯示. auto為由系統決定, 預設為1.\n",
        "score = model.evaluate(x=test_feature,y = test_label, verbose=2)\n",
        "print('\\n準確率= ',score[1])"
      ],
      "metadata": {
        "colab": {
          "base_uri": "https://localhost:8080/"
        },
        "id": "kioIy8EJm3kU",
        "outputId": "54b023f7-dcca-415c-daef-13efe0028d52"
      },
      "execution_count": 48,
      "outputs": [
        {
          "output_type": "stream",
          "name": "stdout",
          "text": [
            "313/313 - 1s - loss: 0.0882 - accuracy: 0.9731 - 762ms/epoch - 2ms/step\n",
            "\n",
            "準確率=  0.9731000065803528\n"
          ]
        }
      ]
    },
    {
      "cell_type": "markdown",
      "source": [
        "# Plotting accuracy vs. val_accuracy"
      ],
      "metadata": {
        "id": "hayW-MAb7xJS"
      }
    },
    {
      "cell_type": "code",
      "source": [
        "fitmodel = model.fit(x = train_feature, y = train_label, validation_split=0.2,epochs=40, batch_size=200, verbose=2) #epochs = 40\n",
        "\n",
        "\n",
        "import matplotlib as mpl\n",
        "import matplotlib.pyplot as plt\n",
        "\n",
        "plt.figure(figsize=(10,4))\n",
        "plt.plot(fitmodel.history['accuracy'])\n",
        "plt.plot(fitmodel.history['val_accuracy'])\n",
        "plt.title(\"Hand writing Identification\")\n",
        "plt.xlabel(\"Epoch\")\n",
        "plt.ylabel(\"Accuracy\")\n",
        "plt.legend([\"train\",\"validate\"])\n",
        "plt.show()"
      ],
      "metadata": {
        "colab": {
          "base_uri": "https://localhost:8080/",
          "height": 1000
        },
        "id": "vabszBdL7wgo",
        "outputId": "ba7cb8ee-a17b-4c89-fe9e-9049cda84647"
      },
      "execution_count": 49,
      "outputs": [
        {
          "output_type": "stream",
          "name": "stdout",
          "text": [
            "Epoch 1/40\n",
            "240/240 - 1s - loss: 0.0372 - accuracy: 0.9884 - val_loss: 0.1075 - val_accuracy: 0.9701 - 736ms/epoch - 3ms/step\n",
            "Epoch 2/40\n",
            "240/240 - 1s - loss: 0.0361 - accuracy: 0.9881 - val_loss: 0.1050 - val_accuracy: 0.9724 - 671ms/epoch - 3ms/step\n",
            "Epoch 3/40\n",
            "240/240 - 1s - loss: 0.0304 - accuracy: 0.9903 - val_loss: 0.1114 - val_accuracy: 0.9720 - 691ms/epoch - 3ms/step\n",
            "Epoch 4/40\n",
            "240/240 - 1s - loss: 0.0253 - accuracy: 0.9920 - val_loss: 0.1156 - val_accuracy: 0.9707 - 668ms/epoch - 3ms/step\n",
            "Epoch 5/40\n",
            "240/240 - 1s - loss: 0.0208 - accuracy: 0.9936 - val_loss: 0.1278 - val_accuracy: 0.9688 - 662ms/epoch - 3ms/step\n",
            "Epoch 6/40\n",
            "240/240 - 1s - loss: 0.0207 - accuracy: 0.9929 - val_loss: 0.1562 - val_accuracy: 0.9640 - 709ms/epoch - 3ms/step\n",
            "Epoch 7/40\n",
            "240/240 - 1s - loss: 0.0217 - accuracy: 0.9930 - val_loss: 0.1291 - val_accuracy: 0.9704 - 706ms/epoch - 3ms/step\n",
            "Epoch 8/40\n",
            "240/240 - 1s - loss: 0.0173 - accuracy: 0.9944 - val_loss: 0.1310 - val_accuracy: 0.9689 - 678ms/epoch - 3ms/step\n",
            "Epoch 9/40\n",
            "240/240 - 1s - loss: 0.0171 - accuracy: 0.9945 - val_loss: 0.1239 - val_accuracy: 0.9716 - 704ms/epoch - 3ms/step\n",
            "Epoch 10/40\n",
            "240/240 - 1s - loss: 0.0141 - accuracy: 0.9955 - val_loss: 0.1404 - val_accuracy: 0.9697 - 713ms/epoch - 3ms/step\n",
            "Epoch 11/40\n",
            "240/240 - 1s - loss: 0.0125 - accuracy: 0.9962 - val_loss: 0.1310 - val_accuracy: 0.9723 - 705ms/epoch - 3ms/step\n",
            "Epoch 12/40\n",
            "240/240 - 1s - loss: 0.0131 - accuracy: 0.9956 - val_loss: 0.1392 - val_accuracy: 0.9716 - 665ms/epoch - 3ms/step\n",
            "Epoch 13/40\n",
            "240/240 - 1s - loss: 0.0102 - accuracy: 0.9968 - val_loss: 0.1545 - val_accuracy: 0.9712 - 689ms/epoch - 3ms/step\n",
            "Epoch 14/40\n",
            "240/240 - 1s - loss: 0.0164 - accuracy: 0.9945 - val_loss: 0.1436 - val_accuracy: 0.9709 - 693ms/epoch - 3ms/step\n",
            "Epoch 15/40\n",
            "240/240 - 1s - loss: 0.0157 - accuracy: 0.9949 - val_loss: 0.1478 - val_accuracy: 0.9693 - 660ms/epoch - 3ms/step\n",
            "Epoch 16/40\n",
            "240/240 - 1s - loss: 0.0092 - accuracy: 0.9970 - val_loss: 0.1489 - val_accuracy: 0.9727 - 689ms/epoch - 3ms/step\n",
            "Epoch 17/40\n",
            "240/240 - 1s - loss: 0.0076 - accuracy: 0.9977 - val_loss: 0.1567 - val_accuracy: 0.9700 - 708ms/epoch - 3ms/step\n",
            "Epoch 18/40\n",
            "240/240 - 1s - loss: 0.0108 - accuracy: 0.9965 - val_loss: 0.1632 - val_accuracy: 0.9724 - 687ms/epoch - 3ms/step\n",
            "Epoch 19/40\n",
            "240/240 - 1s - loss: 0.0095 - accuracy: 0.9970 - val_loss: 0.1580 - val_accuracy: 0.9727 - 685ms/epoch - 3ms/step\n",
            "Epoch 20/40\n",
            "240/240 - 1s - loss: 0.0073 - accuracy: 0.9973 - val_loss: 0.1562 - val_accuracy: 0.9719 - 707ms/epoch - 3ms/step\n",
            "Epoch 21/40\n",
            "240/240 - 1s - loss: 0.0125 - accuracy: 0.9956 - val_loss: 0.1702 - val_accuracy: 0.9680 - 694ms/epoch - 3ms/step\n",
            "Epoch 22/40\n",
            "240/240 - 1s - loss: 0.0154 - accuracy: 0.9949 - val_loss: 0.1647 - val_accuracy: 0.9711 - 680ms/epoch - 3ms/step\n",
            "Epoch 23/40\n",
            "240/240 - 1s - loss: 0.0067 - accuracy: 0.9976 - val_loss: 0.1584 - val_accuracy: 0.9730 - 664ms/epoch - 3ms/step\n",
            "Epoch 24/40\n",
            "240/240 - 1s - loss: 0.0045 - accuracy: 0.9987 - val_loss: 0.1601 - val_accuracy: 0.9723 - 658ms/epoch - 3ms/step\n",
            "Epoch 25/40\n",
            "240/240 - 1s - loss: 0.0074 - accuracy: 0.9973 - val_loss: 0.1691 - val_accuracy: 0.9727 - 696ms/epoch - 3ms/step\n",
            "Epoch 26/40\n",
            "240/240 - 1s - loss: 0.0085 - accuracy: 0.9973 - val_loss: 0.1781 - val_accuracy: 0.9694 - 706ms/epoch - 3ms/step\n",
            "Epoch 27/40\n",
            "240/240 - 1s - loss: 0.0085 - accuracy: 0.9972 - val_loss: 0.1953 - val_accuracy: 0.9678 - 660ms/epoch - 3ms/step\n",
            "Epoch 28/40\n",
            "240/240 - 1s - loss: 0.0118 - accuracy: 0.9963 - val_loss: 0.1866 - val_accuracy: 0.9710 - 666ms/epoch - 3ms/step\n",
            "Epoch 29/40\n",
            "240/240 - 1s - loss: 0.0077 - accuracy: 0.9975 - val_loss: 0.1662 - val_accuracy: 0.9723 - 713ms/epoch - 3ms/step\n",
            "Epoch 30/40\n",
            "240/240 - 1s - loss: 0.0021 - accuracy: 0.9995 - val_loss: 0.1733 - val_accuracy: 0.9722 - 684ms/epoch - 3ms/step\n",
            "Epoch 31/40\n",
            "240/240 - 1s - loss: 0.0119 - accuracy: 0.9959 - val_loss: 0.2086 - val_accuracy: 0.9685 - 667ms/epoch - 3ms/step\n",
            "Epoch 32/40\n",
            "240/240 - 1s - loss: 0.0113 - accuracy: 0.9961 - val_loss: 0.1961 - val_accuracy: 0.9688 - 696ms/epoch - 3ms/step\n",
            "Epoch 33/40\n",
            "240/240 - 1s - loss: 0.0056 - accuracy: 0.9981 - val_loss: 0.1800 - val_accuracy: 0.9718 - 657ms/epoch - 3ms/step\n",
            "Epoch 34/40\n",
            "240/240 - 1s - loss: 8.8623e-04 - accuracy: 0.9998 - val_loss: 0.1745 - val_accuracy: 0.9744 - 677ms/epoch - 3ms/step\n",
            "Epoch 35/40\n",
            "240/240 - 1s - loss: 2.1341e-04 - accuracy: 1.0000 - val_loss: 0.1735 - val_accuracy: 0.9747 - 705ms/epoch - 3ms/step\n",
            "Epoch 36/40\n",
            "240/240 - 1s - loss: 1.1952e-04 - accuracy: 1.0000 - val_loss: 0.1757 - val_accuracy: 0.9747 - 678ms/epoch - 3ms/step\n",
            "Epoch 37/40\n",
            "240/240 - 1s - loss: 9.5675e-05 - accuracy: 1.0000 - val_loss: 0.1775 - val_accuracy: 0.9746 - 684ms/epoch - 3ms/step\n",
            "Epoch 38/40\n",
            "240/240 - 1s - loss: 8.0520e-05 - accuracy: 1.0000 - val_loss: 0.1796 - val_accuracy: 0.9750 - 695ms/epoch - 3ms/step\n",
            "Epoch 39/40\n",
            "240/240 - 1s - loss: 6.9452e-05 - accuracy: 1.0000 - val_loss: 0.1812 - val_accuracy: 0.9748 - 680ms/epoch - 3ms/step\n",
            "Epoch 40/40\n",
            "240/240 - 1s - loss: 6.0610e-05 - accuracy: 1.0000 - val_loss: 0.1830 - val_accuracy: 0.9747 - 682ms/epoch - 3ms/step\n"
          ]
        },
        {
          "output_type": "display_data",
          "data": {
            "text/plain": [
              "<Figure size 720x288 with 1 Axes>"
            ],
            "image/png": "[encoded data removed]"
          },
          "metadata": {
            "needs_background": "light"
          }
        }
      ]
    },
    {
      "cell_type": "markdown",
      "source": [
        "# 模型儲存"
      ],
      "metadata": {
        "id": "PJIzBadNrSZw"
      }
    },
    {
      "cell_type": "code",
      "source": [
        "# 模型變數. save(檔名)\n",
        "model.save(\"mnist_model_trained.h5\")"
      ],
      "metadata": {
        "id": "zfXI1uxdqsAm"
      },
      "execution_count": 50,
      "outputs": []
    },
    {
      "cell_type": "markdown",
      "source": [
        "# 載入模型"
      ],
      "metadata": {
        "id": "VzNWHZPxrmpq"
      }
    },
    {
      "cell_type": "code",
      "source": [
        "# 當需要使用已儲存為模型檔案的模型時, 就可以直接載入已訓練好的模型作為預測.\n",
        "# 首先載入模型模組:\n",
        "from tensorflow.keras.models import load_model\n",
        "\n",
        "# 載入語法:\n",
        "    # 模型變數 = load_model(\"模型檔名\")\n",
        "\n",
        "model_two = load_model(\"mnist_model_trained.h5\")\n",
        "score2 = model_two.evaluate(x = test_feature, y = test_label, verbose=2)\n",
        "print('\\nAccuracy = ', score[1])\n",
        "print(\"\\nLoss = \", score[0])"
      ],
      "metadata": {
        "colab": {
          "base_uri": "https://localhost:8080/"
        },
        "id": "zWjjmIpwrf-L",
        "outputId": "3f972274-c39d-40ee-bfef-fd90cd772ef4"
      },
      "execution_count": 51,
      "outputs": [
        {
          "output_type": "stream",
          "name": "stdout",
          "text": [
            "313/313 - 1s - loss: 0.1506 - accuracy: 0.9782 - 633ms/epoch - 2ms/step\n",
            "\n",
            "Accuracy =  0.9731000065803528\n",
            "\n",
            "Loss =  0.08822578936815262\n"
          ]
        }
      ]
    },
    {
      "cell_type": "code",
      "source": [
        ""
      ],
      "metadata": {
        "id": "YkitAS8ZsXxq"
      },
      "execution_count": 51,
      "outputs": []
    }
  ]
}