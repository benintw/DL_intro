{
  "nbformat": 4,
  "nbformat_minor": 0,
  "metadata": {
    "colab": {
      "name": "MNIST.ipynb",
      "provenance": [],
      "authorship_tag": "ABX9TyNjBJCmFcyin2L3m1SWSswT",
      "include_colab_link": true
    },
    "kernelspec": {
      "name": "python3",
      "display_name": "Python 3"
    },
    "language_info": {
      "name": "python"
    },
    "accelerator": "GPU",
    "gpuClass": "standard",
    "widgets": {
      "application/vnd.jupyter.widget-state+json": {
        "56f97053fda94dd9aad85c9d6014dba8": {
          "model_module": "@jupyter-widgets/controls",
          "model_name": "VBoxModel",
          "model_module_version": "1.5.0",
          "state": {
            "_dom_classes": [
              "widget-interact"
            ],
            "_model_module": "@jupyter-widgets/controls",
            "_model_module_version": "1.5.0",
            "_model_name": "VBoxModel",
            "_view_count": null,
            "_view_module": "@jupyter-widgets/controls",
            "_view_module_version": "1.5.0",
            "_view_name": "VBoxView",
            "box_style": "",
            "children": [
              "IPY_MODEL_f74f176e8c58482dbb77c95af7006eb7",
              "IPY_MODEL_aebd0cce69674c78aac99ac96fda4981"
            ],
            "layout": "IPY_MODEL_a15094c46611452888c0cb4b323f47fa"
          }
        },
        "f74f176e8c58482dbb77c95af7006eb7": {
          "model_module": "@jupyter-widgets/controls",
          "model_name": "IntSliderModel",
          "model_module_version": "1.5.0",
          "state": {
            "_dom_classes": [],
            "_model_module": "@jupyter-widgets/controls",
            "_model_module_version": "1.5.0",
            "_model_name": "IntSliderModel",
            "_view_count": null,
            "_view_module": "@jupyter-widgets/controls",
            "_view_module_version": "1.5.0",
            "_view_name": "IntSliderView",
            "continuous_update": true,
            "description": "n",
            "description_tooltip": null,
            "disabled": false,
            "layout": "IPY_MODEL_a3feab0c2d874e7db648b98ef3ac983c",
            "max": 59999,
            "min": 0,
            "orientation": "horizontal",
            "readout": true,
            "readout_format": "d",
            "step": 1,
            "style": "IPY_MODEL_826b7565c4a94b1587bbb91325127ee0",
            "value": 29999
          }
        },
        "aebd0cce69674c78aac99ac96fda4981": {
          "model_module": "@jupyter-widgets/output",
          "model_name": "OutputModel",
          "model_module_version": "1.0.0",
          "state": {
            "_dom_classes": [],
            "_model_module": "@jupyter-widgets/output",
            "_model_module_version": "1.0.0",
            "_model_name": "OutputModel",
            "_view_count": null,
            "_view_module": "@jupyter-widgets/output",
            "_view_module_version": "1.0.0",
            "_view_name": "OutputView",
            "layout": "IPY_MODEL_93c298a949e84fd89796270fff8e3eaa",
            "msg_id": "",
            "outputs": []
          }
        },
        "a15094c46611452888c0cb4b323f47fa": {
          "model_module": "@jupyter-widgets/base",
          "model_name": "LayoutModel",
          "model_module_version": "1.2.0",
          "state": {
            "_model_module": "@jupyter-widgets/base",
            "_model_module_version": "1.2.0",
            "_model_name": "LayoutModel",
            "_view_count": null,
            "_view_module": "@jupyter-widgets/base",
            "_view_module_version": "1.2.0",
            "_view_name": "LayoutView",
            "align_content": null,
            "align_items": null,
            "align_self": null,
            "border": null,
            "bottom": null,
            "display": null,
            "flex": null,
            "flex_flow": null,
            "grid_area": null,
            "grid_auto_columns": null,
            "grid_auto_flow": null,
            "grid_auto_rows": null,
            "grid_column": null,
            "grid_gap": null,
            "grid_row": null,
            "grid_template_areas": null,
            "grid_template_columns": null,
            "grid_template_rows": null,
            "height": null,
            "justify_content": null,
            "justify_items": null,
            "left": null,
            "margin": null,
            "max_height": null,
            "max_width": null,
            "min_height": null,
            "min_width": null,
            "object_fit": null,
            "object_position": null,
            "order": null,
            "overflow": null,
            "overflow_x": null,
            "overflow_y": null,
            "padding": null,
            "right": null,
            "top": null,
            "visibility": null,
            "width": null
          }
        },
        "a3feab0c2d874e7db648b98ef3ac983c": {
          "model_module": "@jupyter-widgets/base",
          "model_name": "LayoutModel",
          "model_module_version": "1.2.0",
          "state": {
            "_model_module": "@jupyter-widgets/base",
            "_model_module_version": "1.2.0",
            "_model_name": "LayoutModel",
            "_view_count": null,
            "_view_module": "@jupyter-widgets/base",
            "_view_module_version": "1.2.0",
            "_view_name": "LayoutView",
            "align_content": null,
            "align_items": null,
            "align_self": null,
            "border": null,
            "bottom": null,
            "display": null,
            "flex": null,
            "flex_flow": null,
            "grid_area": null,
            "grid_auto_columns": null,
            "grid_auto_flow": null,
            "grid_auto_rows": null,
            "grid_column": null,
            "grid_gap": null,
            "grid_row": null,
            "grid_template_areas": null,
            "grid_template_columns": null,
            "grid_template_rows": null,
            "height": null,
            "justify_content": null,
            "justify_items": null,
            "left": null,
            "margin": null,
            "max_height": null,
            "max_width": null,
            "min_height": null,
            "min_width": null,
            "object_fit": null,
            "object_position": null,
            "order": null,
            "overflow": null,
            "overflow_x": null,
            "overflow_y": null,
            "padding": null,
            "right": null,
            "top": null,
            "visibility": null,
            "width": null
          }
        },
        "826b7565c4a94b1587bbb91325127ee0": {
          "model_module": "@jupyter-widgets/controls",
          "model_name": "SliderStyleModel",
          "model_module_version": "1.5.0",
          "state": {
            "_model_module": "@jupyter-widgets/controls",
            "_model_module_version": "1.5.0",
            "_model_name": "SliderStyleModel",
            "_view_count": null,
            "_view_module": "@jupyter-widgets/base",
            "_view_module_version": "1.2.0",
            "_view_name": "StyleView",
            "description_width": "",
            "handle_color": null
          }
        },
        "93c298a949e84fd89796270fff8e3eaa": {
          "model_module": "@jupyter-widgets/base",
          "model_name": "LayoutModel",
          "model_module_version": "1.2.0",
          "state": {
            "_model_module": "@jupyter-widgets/base",
            "_model_module_version": "1.2.0",
            "_model_name": "LayoutModel",
            "_view_count": null,
            "_view_module": "@jupyter-widgets/base",
            "_view_module_version": "1.2.0",
            "_view_name": "LayoutView",
            "align_content": null,
            "align_items": null,
            "align_self": null,
            "border": null,
            "bottom": null,
            "display": null,
            "flex": null,
            "flex_flow": null,
            "grid_area": null,
            "grid_auto_columns": null,
            "grid_auto_flow": null,
            "grid_auto_rows": null,
            "grid_column": null,
            "grid_gap": null,
            "grid_row": null,
            "grid_template_areas": null,
            "grid_template_columns": null,
            "grid_template_rows": null,
            "height": null,
            "justify_content": null,
            "justify_items": null,
            "left": null,
            "margin": null,
            "max_height": null,
            "max_width": null,
            "min_height": null,
            "min_width": null,
            "object_fit": null,
            "object_position": null,
            "order": null,
            "overflow": null,
            "overflow_x": null,
            "overflow_y": null,
            "padding": null,
            "right": null,
            "top": null,
            "visibility": null,
            "width": null
          }
        }
      }
    }
  },
  "cells": [
    {
      "cell_type": "markdown",
      "metadata": {
        "id": "view-in-github",
        "colab_type": "text"
      },
      "source": [
        "<a href=\"https://colab.research.google.com/github/benintw/DL_intro/blob/main/MNIST.ipynb\" target=\"_parent\"><img src=\"https://colab.research.google.com/assets/colab-badge.svg\" alt=\"Open In Colab\"/></a>"
      ]
    },
    {
      "cell_type": "markdown",
      "source": [
        "# 1. 收集資料"
      ],
      "metadata": {
        "id": "CJHyUCuhfPxi"
      }
    },
    {
      "cell_type": "code",
      "execution_count": 9,
      "metadata": {
        "id": "C673krVE7BU6",
        "colab": {
          "base_uri": "https://localhost:8080/"
        },
        "outputId": "e79c5389-dfa1-4ae8-8df5-1a082eb8929f"
      },
      "outputs": [
        {
          "output_type": "stream",
          "name": "stdout",
          "text": [
            "Downloading data from https://storage.googleapis.com/tensorflow/tf-keras-datasets/mnist.npz\n",
            "11493376/11490434 [==============================] - 0s 0us/step\n",
            "11501568/11490434 [==============================] - 0s 0us/step\n"
          ]
        }
      ],
      "source": [
        "from tensorflow.keras.datasets import mnist\n",
        "(train_feature, train_label), (test_feature, test_label) = mnist.load_data()"
      ]
    },
    {
      "cell_type": "code",
      "source": [
        "print(len(train_feature), len(train_label))"
      ],
      "metadata": {
        "colab": {
          "base_uri": "https://localhost:8080/"
        },
        "id": "bGpe6GtkYLI1",
        "outputId": "a92e9865-cc02-4824-8371-802d07ce432f"
      },
      "execution_count": 10,
      "outputs": [
        {
          "output_type": "stream",
          "name": "stdout",
          "text": [
            "60000 60000\n"
          ]
        }
      ]
    },
    {
      "cell_type": "code",
      "source": [
        "print((train_feature.shape), (train_label.shape))"
      ],
      "metadata": {
        "colab": {
          "base_uri": "https://localhost:8080/"
        },
        "id": "LtcLAZu9YlAp",
        "outputId": "a8fe0845-d87c-4e0a-92a1-3df3776a2708"
      },
      "execution_count": 11,
      "outputs": [
        {
          "output_type": "stream",
          "name": "stdout",
          "text": [
            "(60000, 28, 28) (60000,)\n"
          ]
        }
      ]
    },
    {
      "cell_type": "code",
      "source": [
        "import matplotlib.pyplot as plt\n",
        "\n",
        "print('數字圖形如下形如下, 標籤為: {}'.format(train_label[12]))\n",
        "plt.imshow(train_feature[12], cmap='binary')"
      ],
      "metadata": {
        "colab": {
          "base_uri": "https://localhost:8080/",
          "height": 299
        },
        "id": "FVAm10NxYsmo",
        "outputId": "b7aa682c-fd8c-48fb-e8ff-2277e89b9a89"
      },
      "execution_count": 12,
      "outputs": [
        {
          "output_type": "stream",
          "name": "stdout",
          "text": [
            "數字圖形如下形如下, 標籤為: 3\n"
          ]
        },
        {
          "output_type": "execute_result",
          "data": {
            "text/plain": [
              "<matplotlib.image.AxesImage at 0x7f62ae0f4b10>"
            ]
          },
          "metadata": {},
          "execution_count": 12
        },
        {
          "output_type": "display_data",
          "data": {
            "text/plain": [
              "<Figure size 432x288 with 1 Axes>"
            ],
            "image/png": "[encoded data removed]"
          },
          "metadata": {
            "needs_background": "light"
          }
        }
      ]
    },
    {
      "cell_type": "code",
      "source": [
        "print(train_feature[12])"
      ],
      "metadata": {
        "colab": {
          "base_uri": "https://localhost:8080/"
        },
        "id": "1Ljoqy2bZJha",
        "outputId": "75317ca8-af03-44cb-a177-ab47a8195da9"
      },
      "execution_count": 13,
      "outputs": [
        {
          "output_type": "stream",
          "name": "stdout",
          "text": [
            "[[  0   0   0   0   0   0   0   0   0   0   0   0   0   0   0   0   0   0\n",
            "    0   0   0   0   0   0   0   0   0   0]\n",
            " [  0   0   0   0   0   0   0   0   0   0   0   0   0   0   0   0   0   0\n",
            "    0   0   0   0   0   0   0   0   0   0]\n",
            " [  0   0   0   0   0   0   0   0   0   0   0   0   0   0   0   0   0   0\n",
            "    0   0   0   0   0   0   0   0   0   0]\n",
            " [  0   0   0   0   0   0   0   0   0   0   0   0   0   0   0   0   0   0\n",
            "    0   0   0   0   0   0   0   0   0   0]\n",
            " [  0   0   0   0   0   0   0   0   0   0   0   0   0   0   0   0   0   0\n",
            "    0   0   0   0   0   0   0   0   0   0]\n",
            " [  0   0   0  12  99  91 142 155 246 182 155 155 155 155 131  52   0   0\n",
            "    0   0   0   0   0   0   0   0   0   0]\n",
            " [  0   0   0 138 254 254 254 254 254 254 254 254 254 254 254 252 210 122\n",
            "   33   0   0   0   0   0   0   0   0   0]\n",
            " [  0   0   0 220 254 254 254 235 189 189 189 189 150 189 205 254 254 254\n",
            "   75   0   0   0   0   0   0   0   0   0]\n",
            " [  0   0   0  35  74  35  35  25   0   0   0   0   0   0  13 224 254 254\n",
            "  153   0   0   0   0   0   0   0   0   0]\n",
            " [  0   0   0   0   0   0   0   0   0   0   0   0   0   0  90 254 254 247\n",
            "   53   0   0   0   0   0   0   0   0   0]\n",
            " [  0   0   0   0   0   0   0   0   0   0   0   0   6 152 246 254 254  49\n",
            "    0   0   0   0   0   0   0   0   0   0]\n",
            " [  0   0   0   0   0   0   0   0   0   0   0  66 158 254 254 249 103   8\n",
            "    0   0   0   0   0   0   0   0   0   0]\n",
            " [  0   0   0   0   0   0   0   0   0   0  54 251 254 254 254 248  74   5\n",
            "    0   0   0   0   0   0   0   0   0   0]\n",
            " [  0   0   0   0   0   0   0   0   0   0 140 254 254 254 254 254 254 202\n",
            "  125  45   0   0   0   0   0   0   0   0]\n",
            " [  0   0   0   0   0   0   0   0   0   0  58 181 234 254 254 254 254 254\n",
            "  254 252 140  22   0   0   0   0   0   0]\n",
            " [  0   0   0   0   0   0   0   0   0   0   0   0  30  50  73 155 253 254\n",
            "  254 254 254 191   2   0   0   0   0   0]\n",
            " [  0   0   0   0   0   0   0   0   0   0   0   0   0   0   0   0  91 200\n",
            "  254 254 254 254 118   0   0   0   0   0]\n",
            " [  0   0   0   0   0   0   0   0   0   0   0   0   0   0   0   0   0   4\n",
            "  192 254 254 254 154   0   0   0   0   0]\n",
            " [  0   0   0   0   0   0   0   0   0   0   0   0   0   0   0   0   0   0\n",
            "  141 254 254 254 116   0   0   0   0   0]\n",
            " [  0   0   0   0   0   0   0   0  25 126  86   0   0   0   0   0   0   3\n",
            "  188 254 254 250  61   0   0   0   0   0]\n",
            " [  0   0   0   0   0   0   0  24 209 254  15   0   0   0   0   0  23 137\n",
            "  254 254 254 209   0   0   0   0   0   0]\n",
            " [  0   0   0   0   0   0   0 168 254 254  48   9   0   0   9 127 241 254\n",
            "  254 255 242  63   0   0   0   0   0   0]\n",
            " [  0   0   0   0   0   0   0 101 254 254 254 205 190 190 205 254 254 254\n",
            "  254 242  67   0   0   0   0   0   0   0]\n",
            " [  0   0   0   0   0   0   0  33 166 254 254 254 254 254 254 254 254 250\n",
            "  138  55   0   0   0   0   0   0   0   0]\n",
            " [  0   0   0   0   0   0   0   0   7  88 154 116 194 194 154 154  88  49\n",
            "    0   0   0   0   0   0   0   0   0   0]\n",
            " [  0   0   0   0   0   0   0   0   0   0   0   0   0   0   0   0   0   0\n",
            "    0   0   0   0   0   0   0   0   0   0]\n",
            " [  0   0   0   0   0   0   0   0   0   0   0   0   0   0   0   0   0   0\n",
            "    0   0   0   0   0   0   0   0   0   0]\n",
            " [  0   0   0   0   0   0   0   0   0   0   0   0   0   0   0   0   0   0\n",
            "    0   0   0   0   0   0   0   0   0   0]]\n"
          ]
        }
      ]
    },
    {
      "cell_type": "code",
      "source": [
        "print(train_label[12])"
      ],
      "metadata": {
        "colab": {
          "base_uri": "https://localhost:8080/"
        },
        "id": "tQ5p7CMAZYdZ",
        "outputId": "9bc20197-a805-495e-fec7-8ef1325f9620"
      },
      "execution_count": 14,
      "outputs": [
        {
          "output_type": "stream",
          "name": "stdout",
          "text": [
            "3\n"
          ]
        }
      ]
    },
    {
      "cell_type": "markdown",
      "source": [
        "## 使用ipywidgets \n",
        "#### 建立滑桿快速查看圖片\n",
        "- 語法為:\n",
        "\n",
        "```python\n",
        "interact(function_name, variable_name = (range))\n",
        "```"
      ],
      "metadata": {
        "id": "PCDAO3JTZrr7"
      }
    },
    {
      "cell_type": "code",
      "source": [
        "from ipywidgets import interact\n",
        "import matplotlib.pyplot as plt\n",
        "\n",
        "def show_number(n):\n",
        "    print('數字圖形如下形如下, 標籤為: {}'.format(train_label[n]))\n",
        "    plt.imshow(train_feature[n], cmap='Greys')\n",
        "\n",
        "interact(show_number,n=(0,59999))"
      ],
      "metadata": {
        "colab": {
          "base_uri": "https://localhost:8080/",
          "height": 331,
          "referenced_widgets": [
            "56f97053fda94dd9aad85c9d6014dba8",
            "f74f176e8c58482dbb77c95af7006eb7",
            "aebd0cce69674c78aac99ac96fda4981",
            "a15094c46611452888c0cb4b323f47fa",
            "a3feab0c2d874e7db648b98ef3ac983c",
            "826b7565c4a94b1587bbb91325127ee0",
            "93c298a949e84fd89796270fff8e3eaa"
          ]
        },
        "id": "wjeQ15qGZkJE",
        "outputId": "62674dc9-8888-4144-8add-ffe8d519bb5f"
      },
      "execution_count": 15,
      "outputs": [
        {
          "output_type": "display_data",
          "data": {
            "text/plain": [
              "interactive(children=(IntSlider(value=29999, description='n', max=59999), Output()), _dom_classes=('widget-int…"
            ],
            "application/vnd.jupyter.widget-view+json": {
              "version_major": 2,
              "version_minor": 0,
              "model_id": "56f97053fda94dd9aad85c9d6014dba8"
            }
          },
          "metadata": {}
        },
        {
          "output_type": "execute_result",
          "data": {
            "text/plain": [
              "<function __main__.show_number>"
            ]
          },
          "metadata": {},
          "execution_count": 15
        }
      ]
    },
    {
      "cell_type": "markdown",
      "source": [
        "# 2. 資料預處理\n",
        "## 2.1 特徵資料預處理\n",
        "- 每一個 MNIST 數字圖片都是一張一張28x28 的2維向量圖片, \n",
        "必須轉換為必須轉換為 784個數值的1維向量, 並將數值標準化, 才能增加模型訓練的效率. "
      ],
      "metadata": {
        "id": "n_WhUrpQavv_"
      }
    },
    {
      "cell_type": "code",
      "source": [
        "train_feature = train_feature.reshape(len(train_feature), 784) # reshape\n",
        "test_feature = test_feature.reshape(len(test_feature),784) # reshape\n",
        "print(train_feature.shape, test_feature.shape)"
      ],
      "metadata": {
        "colab": {
          "base_uri": "https://localhost:8080/"
        },
        "id": "StE19w9gbE76",
        "outputId": "8eebd33e-f89e-434f-8384-32a812fa891c"
      },
      "execution_count": 16,
      "outputs": [
        {
          "output_type": "stream",
          "name": "stdout",
          "text": [
            "(60000, 784) (10000, 784)\n"
          ]
        }
      ]
    },
    {
      "cell_type": "code",
      "source": [
        "print(type(train_feature))"
      ],
      "metadata": {
        "colab": {
          "base_uri": "https://localhost:8080/"
        },
        "id": "k0oDK8FHbV0R",
        "outputId": "0cdd33f4-ebcd-4735-ec20-53ca42269de9"
      },
      "execution_count": 17,
      "outputs": [
        {
          "output_type": "stream",
          "name": "stdout",
          "text": [
            "<class 'numpy.ndarray'>\n"
          ]
        }
      ]
    },
    {
      "cell_type": "code",
      "source": [
        "print(train_feature[0]) # shape = (784,1)"
      ],
      "metadata": {
        "colab": {
          "base_uri": "https://localhost:8080/"
        },
        "id": "zA1EZfCHb0O6",
        "outputId": "b7646285-ec15-49c6-d9fc-4703ee316757"
      },
      "execution_count": 18,
      "outputs": [
        {
          "output_type": "stream",
          "name": "stdout",
          "text": [
            "[  0   0   0   0   0   0   0   0   0   0   0   0   0   0   0   0   0   0\n",
            "   0   0   0   0   0   0   0   0   0   0   0   0   0   0   0   0   0   0\n",
            "   0   0   0   0   0   0   0   0   0   0   0   0   0   0   0   0   0   0\n",
            "   0   0   0   0   0   0   0   0   0   0   0   0   0   0   0   0   0   0\n",
            "   0   0   0   0   0   0   0   0   0   0   0   0   0   0   0   0   0   0\n",
            "   0   0   0   0   0   0   0   0   0   0   0   0   0   0   0   0   0   0\n",
            "   0   0   0   0   0   0   0   0   0   0   0   0   0   0   0   0   0   0\n",
            "   0   0   0   0   0   0   0   0   0   0   0   0   0   0   0   0   0   0\n",
            "   0   0   0   0   0   0   0   0   3  18  18  18 126 136 175  26 166 255\n",
            " 247 127   0   0   0   0   0   0   0   0   0   0   0   0  30  36  94 154\n",
            " 170 253 253 253 253 253 225 172 253 242 195  64   0   0   0   0   0   0\n",
            "   0   0   0   0   0  49 238 253 253 253 253 253 253 253 253 251  93  82\n",
            "  82  56  39   0   0   0   0   0   0   0   0   0   0   0   0  18 219 253\n",
            " 253 253 253 253 198 182 247 241   0   0   0   0   0   0   0   0   0   0\n",
            "   0   0   0   0   0   0   0   0  80 156 107 253 253 205  11   0  43 154\n",
            "   0   0   0   0   0   0   0   0   0   0   0   0   0   0   0   0   0   0\n",
            "   0  14   1 154 253  90   0   0   0   0   0   0   0   0   0   0   0   0\n",
            "   0   0   0   0   0   0   0   0   0   0   0   0   0 139 253 190   2   0\n",
            "   0   0   0   0   0   0   0   0   0   0   0   0   0   0   0   0   0   0\n",
            "   0   0   0   0   0  11 190 253  70   0   0   0   0   0   0   0   0   0\n",
            "   0   0   0   0   0   0   0   0   0   0   0   0   0   0   0   0  35 241\n",
            " 225 160 108   1   0   0   0   0   0   0   0   0   0   0   0   0   0   0\n",
            "   0   0   0   0   0   0   0   0   0  81 240 253 253 119  25   0   0   0\n",
            "   0   0   0   0   0   0   0   0   0   0   0   0   0   0   0   0   0   0\n",
            "   0   0  45 186 253 253 150  27   0   0   0   0   0   0   0   0   0   0\n",
            "   0   0   0   0   0   0   0   0   0   0   0   0   0  16  93 252 253 187\n",
            "   0   0   0   0   0   0   0   0   0   0   0   0   0   0   0   0   0   0\n",
            "   0   0   0   0   0   0   0 249 253 249  64   0   0   0   0   0   0   0\n",
            "   0   0   0   0   0   0   0   0   0   0   0   0   0   0  46 130 183 253\n",
            " 253 207   2   0   0   0   0   0   0   0   0   0   0   0   0   0   0   0\n",
            "   0   0   0   0  39 148 229 253 253 253 250 182   0   0   0   0   0   0\n",
            "   0   0   0   0   0   0   0   0   0   0   0   0  24 114 221 253 253 253\n",
            " 253 201  78   0   0   0   0   0   0   0   0   0   0   0   0   0   0   0\n",
            "   0   0  23  66 213 253 253 253 253 198  81   2   0   0   0   0   0   0\n",
            "   0   0   0   0   0   0   0   0   0   0  18 171 219 253 253 253 253 195\n",
            "  80   9   0   0   0   0   0   0   0   0   0   0   0   0   0   0   0   0\n",
            "  55 172 226 253 253 253 253 244 133  11   0   0   0   0   0   0   0   0\n",
            "   0   0   0   0   0   0   0   0   0   0 136 253 253 253 212 135 132  16\n",
            "   0   0   0   0   0   0   0   0   0   0   0   0   0   0   0   0   0   0\n",
            "   0   0   0   0   0   0   0   0   0   0   0   0   0   0   0   0   0   0\n",
            "   0   0   0   0   0   0   0   0   0   0   0   0   0   0   0   0   0   0\n",
            "   0   0   0   0   0   0   0   0   0   0   0   0   0   0   0   0   0   0\n",
            "   0   0   0   0   0   0   0   0   0   0   0   0   0   0   0   0   0   0\n",
            "   0   0   0   0   0   0   0   0   0   0]\n"
          ]
        }
      ]
    },
    {
      "cell_type": "code",
      "source": [
        "train_feature[0].shape"
      ],
      "metadata": {
        "colab": {
          "base_uri": "https://localhost:8080/"
        },
        "id": "uIipew55cs-e",
        "outputId": "0d2ebb6a-9cfd-42d9-86cb-afb4835fdf33"
      },
      "execution_count": 19,
      "outputs": [
        {
          "output_type": "execute_result",
          "data": {
            "text/plain": [
              "(784,)"
            ]
          },
          "metadata": {},
          "execution_count": 19
        }
      ]
    },
    {
      "cell_type": "code",
      "source": [
        "# 做標準化標準化 num / 255 \n",
        "train_feature = train_feature / 255\n",
        "test_feature = test_feature / 255\n",
        "print(test_feature[0]) "
      ],
      "metadata": {
        "colab": {
          "base_uri": "https://localhost:8080/"
        },
        "id": "FYSa1GjAb3vp",
        "outputId": "ad3ca859-18ed-49da-a67b-0a6a1bab8407"
      },
      "execution_count": 20,
      "outputs": [
        {
          "output_type": "stream",
          "name": "stdout",
          "text": [
            "[0.         0.         0.         0.         0.         0.\n",
            " 0.         0.         0.         0.         0.         0.\n",
            " 0.         0.         0.         0.         0.         0.\n",
            " 0.         0.         0.         0.         0.         0.\n",
            " 0.         0.         0.         0.         0.         0.\n",
            " 0.         0.         0.         0.         0.         0.\n",
            " 0.         0.         0.         0.         0.         0.\n",
            " 0.         0.         0.         0.         0.         0.\n",
            " 0.         0.         0.         0.         0.         0.\n",
            " 0.         0.         0.         0.         0.         0.\n",
            " 0.         0.         0.         0.         0.         0.\n",
            " 0.         0.         0.         0.         0.         0.\n",
            " 0.         0.         0.         0.         0.         0.\n",
            " 0.         0.         0.         0.         0.         0.\n",
            " 0.         0.         0.         0.         0.         0.\n",
            " 0.         0.         0.         0.         0.         0.\n",
            " 0.         0.         0.         0.         0.         0.\n",
            " 0.         0.         0.         0.         0.         0.\n",
            " 0.         0.         0.         0.         0.         0.\n",
            " 0.         0.         0.         0.         0.         0.\n",
            " 0.         0.         0.         0.         0.         0.\n",
            " 0.         0.         0.         0.         0.         0.\n",
            " 0.         0.         0.         0.         0.         0.\n",
            " 0.         0.         0.         0.         0.         0.\n",
            " 0.         0.         0.         0.         0.         0.\n",
            " 0.         0.         0.         0.         0.         0.\n",
            " 0.         0.         0.         0.         0.         0.\n",
            " 0.         0.         0.         0.         0.         0.\n",
            " 0.         0.         0.         0.         0.         0.\n",
            " 0.         0.         0.         0.         0.         0.\n",
            " 0.         0.         0.         0.         0.         0.\n",
            " 0.         0.         0.         0.         0.         0.\n",
            " 0.         0.         0.         0.         0.         0.\n",
            " 0.         0.         0.         0.         0.32941176 0.7254902\n",
            " 0.62352941 0.59215686 0.23529412 0.14117647 0.         0.\n",
            " 0.         0.         0.         0.         0.         0.\n",
            " 0.         0.         0.         0.         0.         0.\n",
            " 0.         0.         0.         0.         0.         0.\n",
            " 0.         0.         0.87058824 0.99607843 0.99607843 0.99607843\n",
            " 0.99607843 0.94509804 0.77647059 0.77647059 0.77647059 0.77647059\n",
            " 0.77647059 0.77647059 0.77647059 0.77647059 0.66666667 0.20392157\n",
            " 0.         0.         0.         0.         0.         0.\n",
            " 0.         0.         0.         0.         0.         0.\n",
            " 0.2627451  0.44705882 0.28235294 0.44705882 0.63921569 0.89019608\n",
            " 0.99607843 0.88235294 0.99607843 0.99607843 0.99607843 0.98039216\n",
            " 0.89803922 0.99607843 0.99607843 0.54901961 0.         0.\n",
            " 0.         0.         0.         0.         0.         0.\n",
            " 0.         0.         0.         0.         0.         0.\n",
            " 0.         0.         0.         0.06666667 0.25882353 0.05490196\n",
            " 0.2627451  0.2627451  0.2627451  0.23137255 0.08235294 0.9254902\n",
            " 0.99607843 0.41568627 0.         0.         0.         0.\n",
            " 0.         0.         0.         0.         0.         0.\n",
            " 0.         0.         0.         0.         0.         0.\n",
            " 0.         0.         0.         0.         0.         0.\n",
            " 0.         0.         0.3254902  0.99215686 0.81960784 0.07058824\n",
            " 0.         0.         0.         0.         0.         0.\n",
            " 0.         0.         0.         0.         0.         0.\n",
            " 0.         0.         0.         0.         0.         0.\n",
            " 0.         0.         0.         0.         0.         0.08627451\n",
            " 0.91372549 1.         0.3254902  0.         0.         0.\n",
            " 0.         0.         0.         0.         0.         0.\n",
            " 0.         0.         0.         0.         0.         0.\n",
            " 0.         0.         0.         0.         0.         0.\n",
            " 0.         0.         0.         0.50588235 0.99607843 0.93333333\n",
            " 0.17254902 0.         0.         0.         0.         0.\n",
            " 0.         0.         0.         0.         0.         0.\n",
            " 0.         0.         0.         0.         0.         0.\n",
            " 0.         0.         0.         0.         0.         0.\n",
            " 0.23137255 0.97647059 0.99607843 0.24313725 0.         0.\n",
            " 0.         0.         0.         0.         0.         0.\n",
            " 0.         0.         0.         0.         0.         0.\n",
            " 0.         0.         0.         0.         0.         0.\n",
            " 0.         0.         0.         0.         0.52156863 0.99607843\n",
            " 0.73333333 0.01960784 0.         0.         0.         0.\n",
            " 0.         0.         0.         0.         0.         0.\n",
            " 0.         0.         0.         0.         0.         0.\n",
            " 0.         0.         0.         0.         0.         0.\n",
            " 0.         0.03529412 0.80392157 0.97254902 0.22745098 0.\n",
            " 0.         0.         0.         0.         0.         0.\n",
            " 0.         0.         0.         0.         0.         0.\n",
            " 0.         0.         0.         0.         0.         0.\n",
            " 0.         0.         0.         0.         0.         0.49411765\n",
            " 0.99607843 0.71372549 0.         0.         0.         0.\n",
            " 0.         0.         0.         0.         0.         0.\n",
            " 0.         0.         0.         0.         0.         0.\n",
            " 0.         0.         0.         0.         0.         0.\n",
            " 0.         0.         0.29411765 0.98431373 0.94117647 0.22352941\n",
            " 0.         0.         0.         0.         0.         0.\n",
            " 0.         0.         0.         0.         0.         0.\n",
            " 0.         0.         0.         0.         0.         0.\n",
            " 0.         0.         0.         0.         0.         0.0745098\n",
            " 0.86666667 0.99607843 0.65098039 0.         0.         0.\n",
            " 0.         0.         0.         0.         0.         0.\n",
            " 0.         0.         0.         0.         0.         0.\n",
            " 0.         0.         0.         0.         0.         0.\n",
            " 0.         0.         0.01176471 0.79607843 0.99607843 0.85882353\n",
            " 0.1372549  0.         0.         0.         0.         0.\n",
            " 0.         0.         0.         0.         0.         0.\n",
            " 0.         0.         0.         0.         0.         0.\n",
            " 0.         0.         0.         0.         0.         0.\n",
            " 0.14901961 0.99607843 0.99607843 0.30196078 0.         0.\n",
            " 0.         0.         0.         0.         0.         0.\n",
            " 0.         0.         0.         0.         0.         0.\n",
            " 0.         0.         0.         0.         0.         0.\n",
            " 0.         0.         0.         0.12156863 0.87843137 0.99607843\n",
            " 0.45098039 0.00392157 0.         0.         0.         0.\n",
            " 0.         0.         0.         0.         0.         0.\n",
            " 0.         0.         0.         0.         0.         0.\n",
            " 0.         0.         0.         0.         0.         0.\n",
            " 0.         0.52156863 0.99607843 0.99607843 0.20392157 0.\n",
            " 0.         0.         0.         0.         0.         0.\n",
            " 0.         0.         0.         0.         0.         0.\n",
            " 0.         0.         0.         0.         0.         0.\n",
            " 0.         0.         0.         0.         0.23921569 0.94901961\n",
            " 0.99607843 0.99607843 0.20392157 0.         0.         0.\n",
            " 0.         0.         0.         0.         0.         0.\n",
            " 0.         0.         0.         0.         0.         0.\n",
            " 0.         0.         0.         0.         0.         0.\n",
            " 0.         0.         0.4745098  0.99607843 0.99607843 0.85882353\n",
            " 0.15686275 0.         0.         0.         0.         0.\n",
            " 0.         0.         0.         0.         0.         0.\n",
            " 0.         0.         0.         0.         0.         0.\n",
            " 0.         0.         0.         0.         0.         0.\n",
            " 0.4745098  0.99607843 0.81176471 0.07058824 0.         0.\n",
            " 0.         0.         0.         0.         0.         0.\n",
            " 0.         0.         0.         0.         0.         0.\n",
            " 0.         0.         0.         0.         0.         0.\n",
            " 0.         0.         0.         0.         0.         0.\n",
            " 0.         0.         0.         0.         0.         0.\n",
            " 0.         0.         0.         0.         0.         0.\n",
            " 0.         0.         0.         0.        ]\n"
          ]
        }
      ]
    },
    {
      "cell_type": "markdown",
      "source": [
        "## 2.2 標籤資料預處理\n",
        "- 標籤值0~9 的數字, 為了避免數值大小的干擾, 將其轉換為轉換為 One-Hot 編碼\n",
        "- 使用np_utils.to_categorical() 方法可以將數字轉換為為One-Hot 編碼"
      ],
      "metadata": {
        "id": "9g6LS2lEftXh"
      }
    },
    {
      "cell_type": "code",
      "source": [
        "print(train_label[:5])"
      ],
      "metadata": {
        "colab": {
          "base_uri": "https://localhost:8080/"
        },
        "id": "AmmlcxCocm29",
        "outputId": "edd060b6-6e52-4cff-cbb7-53babe28138c"
      },
      "execution_count": 21,
      "outputs": [
        {
          "output_type": "stream",
          "name": "stdout",
          "text": [
            "[5 0 4 1 9]\n"
          ]
        }
      ]
    },
    {
      "cell_type": "code",
      "source": [
        "from keras.utils import np_utils\n",
        "train_label = np_utils.to_categorical(train_label)\n",
        "test_label = np_utils.to_categorical(test_label)\n",
        "print(train_label[0:5])"
      ],
      "metadata": {
        "colab": {
          "base_uri": "https://localhost:8080/"
        },
        "id": "HrTXxZOUgFeb",
        "outputId": "3819b1d2-7f2d-480c-eb1e-233a89e022b5"
      },
      "execution_count": 22,
      "outputs": [
        {
          "output_type": "stream",
          "name": "stdout",
          "text": [
            "[[0. 0. 0. 0. 0. 1. 0. 0. 0. 0.]\n",
            " [1. 0. 0. 0. 0. 0. 0. 0. 0. 0.]\n",
            " [0. 0. 0. 0. 1. 0. 0. 0. 0. 0.]\n",
            " [0. 1. 0. 0. 0. 0. 0. 0. 0. 0.]\n",
            " [0. 0. 0. 0. 0. 0. 0. 0. 0. 1.]]\n"
          ]
        }
      ]
    },
    {
      "cell_type": "markdown",
      "source": [
        "# 3. 建立模型"
      ],
      "metadata": {
        "id": "dorpr2nvgzBa"
      }
    },
    {
      "cell_type": "code",
      "source": [
        "# 建立3個隱藏層的深度神經網路模型:\n",
        "from tensorflow.keras.models import Sequential\n",
        "from tensorflow.keras.layers import Dense"
      ],
      "metadata": {
        "id": "k_VQQ-K_gtfG"
      },
      "execution_count": 23,
      "outputs": []
    },
    {
      "cell_type": "code",
      "source": [
        "# 建立建立Sequential物件物件\n",
        "model = Sequential()"
      ],
      "metadata": {
        "id": "_Z8_jVAchRBD"
      },
      "execution_count": 24,
      "outputs": []
    },
    {
      "cell_type": "code",
      "source": [
        "# 建立FNN:\n",
        "    # units: 神經元數量數量\n",
        "    # input_dim: 此參數非必填, 若設定此參數參數, 表示建立輸入層及第一層隱藏層, 參數值為輸入資料數量; 若為設定此參數參數, 表示建立隱藏層或輸出層.\n",
        "    # activation: 設定激勵函式激勵函式\n",
        "\n",
        "# 首先建立輸入層及第1層, 輸入資料輸入資料784, 神經元50個, 激勵函式ReLU\n",
        "model.add(Dense(units= 50, input_dim= 784, activation= 'relu'))\n",
        "\n",
        "# 第2層以後就不需要設定輸入資料數量, 因為其輸入是由前一層而來, 系統會自動計算輸入資料數量.\n",
        "# 第2層有100個神經元, \n",
        "model.add(Dense(units=100, activation='relu'))\n",
        "\n",
        "# 第3層有200個神經元\n",
        "model.add(Dense(units=200, activation='relu'))\n",
        "\n",
        "# 最後建立輸出層: 輸出資料有10個, 激勵函式為為SoftMax\n",
        "model.add(Dense(units=10, activation='softmax'))\n"
      ],
      "metadata": {
        "id": "cWbLr0hEheGy"
      },
      "execution_count": 25,
      "outputs": []
    },
    {
      "cell_type": "code",
      "source": [
        "# 建立完模型後, 查看模型的權重數量是否合乎預期\n",
        "model.summary()\n",
        "\n",
        "# 66,560 為權重總數\n",
        "# 計算方式:\n",
        "# 輸入資料數數 * 神經元數 + 偏置數"
      ],
      "metadata": {
        "colab": {
          "base_uri": "https://localhost:8080/"
        },
        "id": "a0hdeHJEkveF",
        "outputId": "af1bbf8f-ed70-401d-b74b-a94d123ef929"
      },
      "execution_count": 26,
      "outputs": [
        {
          "output_type": "stream",
          "name": "stdout",
          "text": [
            "Model: \"sequential_1\"\n",
            "_________________________________________________________________\n",
            " Layer (type)                Output Shape              Param #   \n",
            "=================================================================\n",
            " dense_4 (Dense)             (None, 50)                39250     \n",
            "                                                                 \n",
            " dense_5 (Dense)             (None, 100)               5100      \n",
            "                                                                 \n",
            " dense_6 (Dense)             (None, 200)               20200     \n",
            "                                                                 \n",
            " dense_7 (Dense)             (None, 10)                2010      \n",
            "                                                                 \n",
            "=================================================================\n",
            "Total params: 66,560\n",
            "Trainable params: 66,560\n",
            "Non-trainable params: 0\n",
            "_________________________________________________________________\n"
          ]
        }
      ]
    },
    {
      "cell_type": "markdown",
      "source": [
        "# 4. 訓練模型"
      ],
      "metadata": {
        "id": "BxjrIbXTl20u"
      }
    },
    {
      "cell_type": "code",
      "source": [
        "# 先設定模型的訓練方式\n",
        "# 模型變數.compile(loss = 損失函式, optimizer = 最佳化函式, metrics = 評估標準)\n",
        "    # loss: 常用函式有 mean_squared_error 或 categorical_crossentropy\n",
        "    # optimizer: sgd, rmsprop, adam\n",
        "    # metrics: 此參數非必填. 常用值: accuracy 或 mse\n",
        "model. compile(loss='categorical_crossentropy',optimizer='adam', metrics=['accuracy'])\n",
        "\n",
        "# 然後用用fit( )方法進行訓練,\n",
        "# 模型變數.fit(x=特徵值, y=標籤, validation_split = 驗證資料比率, epochs=訓練次數, shuffle=布林值, \n",
        "#               batch_size = 批次資料數量, verbose=顯示模式)\n",
        "    # x: 設定訓練特徵值\n",
        "    # y: 設定訓練標籤值\n",
        "    # validation_split = 非必填. 設定驗證資料比率, 例如0.2 表示將訓練資料保留20%當作驗證資料. 預設值為0 即全部資料都會做訓練用.\n",
        "    # epochs: 非必填, 設定訓練次數, 預設值為1.\n",
        "    # shuffle: 非必填, True 為先將資料打亂再進行訓練, 預設為True\n",
        "    # batch_size: 非必填, 設定每次處理的資料筆數, 預設為1. \n",
        "    # verbose: 非必填, 設定是否顯示訓練過程, 0為不顯示, 1為詳細顯示, 2為簡易顯示. auto為由系統決定, 預設為auto.\n",
        "model.fit(x = train_feature, y = train_label, validation_split=0.2,epochs=10, batch_size=200, verbose=2)\n",
        "    # 訓練資料保留20%作為驗證資料\n",
        "    # 訓練10次\n",
        "    # 每批處理200筆資料\n",
        "    # 簡易顯示訓練過程\n",
        "\n",
        "# loss: 使用訓練資料時時, 得到的損失函式誤差值(越小代表準確率越高)\n",
        "# accuracy: 使用訓練資料時時, 得到的評估準確率(值在0~1, 越大代表準確率越高)\n",
        "# val_loss: 使用驗證資料時, 得到的損失函式誤差值(越小代表準確率越高)\n",
        "# val_accuracy: 使用驗證資料時時, 得到的評估準確率(值在0~1, 越大代表準確率越高)"
      ],
      "metadata": {
        "colab": {
          "base_uri": "https://localhost:8080/"
        },
        "id": "hOg9k58Hk-b-",
        "outputId": "75774d61-1829-403e-e5f7-e6f582553c82"
      },
      "execution_count": 27,
      "outputs": [
        {
          "output_type": "stream",
          "name": "stdout",
          "text": [
            "Epoch 1/10\n",
            "240/240 - 4s - loss: 0.4799 - accuracy: 0.8688 - val_loss: 0.2175 - val_accuracy: 0.9358 - 4s/epoch - 15ms/step\n",
            "Epoch 2/10\n",
            "240/240 - 1s - loss: 0.1867 - accuracy: 0.9457 - val_loss: 0.1565 - val_accuracy: 0.9530 - 652ms/epoch - 3ms/step\n",
            "Epoch 3/10\n",
            "240/240 - 1s - loss: 0.1346 - accuracy: 0.9603 - val_loss: 0.1333 - val_accuracy: 0.9603 - 669ms/epoch - 3ms/step\n",
            "Epoch 4/10\n",
            "240/240 - 1s - loss: 0.1072 - accuracy: 0.9679 - val_loss: 0.1236 - val_accuracy: 0.9637 - 689ms/epoch - 3ms/step\n",
            "Epoch 5/10\n",
            "240/240 - 1s - loss: 0.0884 - accuracy: 0.9735 - val_loss: 0.1113 - val_accuracy: 0.9682 - 708ms/epoch - 3ms/step\n",
            "Epoch 6/10\n",
            "240/240 - 1s - loss: 0.0749 - accuracy: 0.9774 - val_loss: 0.1246 - val_accuracy: 0.9628 - 659ms/epoch - 3ms/step\n",
            "Epoch 7/10\n",
            "240/240 - 1s - loss: 0.0644 - accuracy: 0.9803 - val_loss: 0.1095 - val_accuracy: 0.9691 - 669ms/epoch - 3ms/step\n",
            "Epoch 8/10\n",
            "240/240 - 1s - loss: 0.0535 - accuracy: 0.9837 - val_loss: 0.1060 - val_accuracy: 0.9702 - 717ms/epoch - 3ms/step\n",
            "Epoch 9/10\n",
            "240/240 - 1s - loss: 0.0470 - accuracy: 0.9858 - val_loss: 0.1071 - val_accuracy: 0.9698 - 722ms/epoch - 3ms/step\n",
            "Epoch 10/10\n",
            "240/240 - 1s - loss: 0.0408 - accuracy: 0.9872 - val_loss: 0.1097 - val_accuracy: 0.9690 - 697ms/epoch - 3ms/step\n"
          ]
        },
        {
          "output_type": "execute_result",
          "data": {
            "text/plain": [
              "<keras.callbacks.History at 0x7f6298d2c310>"
            ]
          },
          "metadata": {},
          "execution_count": 27
        }
      ]
    },
    {
      "cell_type": "markdown",
      "source": [
        "# 5. 評估模型準確率"
      ],
      "metadata": {
        "id": "jtMiy1Kop0QH"
      }
    },
    {
      "cell_type": "code",
      "source": [
        "# evaluate() 方法可以評估模型的損失函示誤差值和準確率\n",
        "# 評估變數 = 模型變數.evaluate(x = 特徵值, y = 標籤, verbose = 顯示模式)\n",
        "    # x: 設定評估資料特徵值\n",
        "    # y: 設定評估資料標籤值\n",
        "    # verbose: 非必填, 設定是否顯示訓練過程, 0為不顯示, 1為詳細顯示, 2為簡易顯示. auto為由系統決定, 預設為1.\n",
        "score = model.evaluate(x=test_feature,y = test_label, verbose=2)\n",
        "print('\\n準確率= ',score[1])"
      ],
      "metadata": {
        "colab": {
          "base_uri": "https://localhost:8080/"
        },
        "id": "kioIy8EJm3kU",
        "outputId": "684c8b0d-6c31-4737-949d-683a87f5b24d"
      },
      "execution_count": 28,
      "outputs": [
        {
          "output_type": "stream",
          "name": "stdout",
          "text": [
            "313/313 - 1s - loss: 0.0961 - accuracy: 0.9707 - 835ms/epoch - 3ms/step\n",
            "\n",
            "準確率=  0.9707000255584717\n"
          ]
        }
      ]
    },
    {
      "cell_type": "markdown",
      "source": [
        "# 模型儲存"
      ],
      "metadata": {
        "id": "PJIzBadNrSZw"
      }
    },
    {
      "cell_type": "code",
      "source": [
        "# 模型變數. save(檔名)\n",
        "model.save(\"mnist_model_trained.h5\")"
      ],
      "metadata": {
        "id": "zfXI1uxdqsAm"
      },
      "execution_count": 29,
      "outputs": []
    },
    {
      "cell_type": "markdown",
      "source": [
        "# 載入模型"
      ],
      "metadata": {
        "id": "VzNWHZPxrmpq"
      }
    },
    {
      "cell_type": "code",
      "source": [
        "# 當需要使用已儲存為模型檔案的模型時, 就可以直接載入已訓練好的模型作為預測.\n",
        "# 首先載入模型模組:\n",
        "from tensorflow.keras.models import load_model\n",
        "\n",
        "# 載入語法:\n",
        "    # 模型變數 = load_model(\"模型檔名\")\n",
        "\n",
        "model_two = load_model(\"mnist_model_trained.h5\")\n",
        "score2 = model_two.evaluate(x = test_feature, y = test_label, verbose=2)\n",
        "print('\\nAccuracy = ', score[1])\n",
        "print(\"\\nLoss = \", score[0])"
      ],
      "metadata": {
        "colab": {
          "base_uri": "https://localhost:8080/"
        },
        "id": "zWjjmIpwrf-L",
        "outputId": "27ecce6d-9059-4c3e-fbb8-125e9f3dfdf4"
      },
      "execution_count": 30,
      "outputs": [
        {
          "output_type": "stream",
          "name": "stdout",
          "text": [
            "313/313 - 1s - loss: 0.0961 - accuracy: 0.9707 - 672ms/epoch - 2ms/step\n",
            "\n",
            "Accuracy =  0.9707000255584717\n",
            "\n",
            "Loss =  0.09609247744083405\n"
          ]
        }
      ]
    },
    {
      "cell_type": "code",
      "source": [
        ""
      ],
      "metadata": {
        "id": "YkitAS8ZsXxq"
      },
      "execution_count": null,
      "outputs": []
    }
  ]
}